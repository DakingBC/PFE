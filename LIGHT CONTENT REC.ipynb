{
 "cells": [
  {
   "cell_type": "code",
   "execution_count": 1,
   "id": "29194c93",
   "metadata": {},
   "outputs": [],
   "source": [
    "import pandas as pd \n",
    "import numpy as np\n",
    "from sklearn.cluster import KMeans\n",
    "import matplotlib.pyplot as plt\n",
    "from sklearn.feature_extraction.text import TfidfVectorizer\n",
    "from sklearn.metrics.pairwise import cosine_similarity\n",
    "from sklearn.decomposition import PCA\n",
    "from scipy.sparse import csr_matrix\n",
    "from sklearn.decomposition import TruncatedSVD\n",
    "from sklearn.metrics import precision_score, recall_score, f1_score"
   ]
  },
  {
   "cell_type": "code",
   "execution_count": 2,
   "id": "d71c3e72",
   "metadata": {},
   "outputs": [],
   "source": [
    "df = pd.read_excel(\"content_rec_df.xlsx\" , engine= \"openpyxl\")"
   ]
  },
  {
   "cell_type": "code",
   "execution_count": 3,
   "id": "e573fa01",
   "metadata": {},
   "outputs": [
    {
     "data": {
      "text/plain": [
       "(38299, 6)"
      ]
     },
     "execution_count": 3,
     "metadata": {},
     "output_type": "execute_result"
    }
   ],
   "source": [
    "df.shape"
   ]
  },
  {
   "cell_type": "code",
   "execution_count": 4,
   "id": "0a26d68e",
   "metadata": {},
   "outputs": [
    {
     "data": {
      "text/html": [
       "<div>\n",
       "<style scoped>\n",
       "    .dataframe tbody tr th:only-of-type {\n",
       "        vertical-align: middle;\n",
       "    }\n",
       "\n",
       "    .dataframe tbody tr th {\n",
       "        vertical-align: top;\n",
       "    }\n",
       "\n",
       "    .dataframe thead th {\n",
       "        text-align: right;\n",
       "    }\n",
       "</style>\n",
       "<table border=\"1\" class=\"dataframe\">\n",
       "  <thead>\n",
       "    <tr style=\"text-align: right;\">\n",
       "      <th></th>\n",
       "      <th>Montant</th>\n",
       "      <th>Ville de l'affilié</th>\n",
       "      <th>Nom de l'affilié</th>\n",
       "      <th>Adresse PV</th>\n",
       "      <th>Famille Aff.</th>\n",
       "      <th>Groupe Aff.</th>\n",
       "    </tr>\n",
       "  </thead>\n",
       "  <tbody>\n",
       "    <tr>\n",
       "      <th>0</th>\n",
       "      <td>39.00</td>\n",
       "      <td>BARDO</td>\n",
       "      <td>ECHEMI</td>\n",
       "      <td>AV. HEDI NOUIRA ,ENNASR II</td>\n",
       "      <td>FAST FOOD</td>\n",
       "      <td>RESTAURATION</td>\n",
       "    </tr>\n",
       "    <tr>\n",
       "      <th>1</th>\n",
       "      <td>13.00</td>\n",
       "      <td>LA SOUKRA</td>\n",
       "      <td>WOOD'S PIZZA</td>\n",
       "      <td>3, RES. EL BOSTENE E4</td>\n",
       "      <td>PIZZERIA</td>\n",
       "      <td>RESTAURATION</td>\n",
       "    </tr>\n",
       "    <tr>\n",
       "      <th>2</th>\n",
       "      <td>22.31</td>\n",
       "      <td>CITE EL GHAZELA</td>\n",
       "      <td>DI NAPOLI</td>\n",
       "      <td>45B, AV. HABIB BOURGUIBA</td>\n",
       "      <td>RESTAURANT A LA CARTE</td>\n",
       "      <td>RESTAURATION</td>\n",
       "    </tr>\n",
       "    <tr>\n",
       "      <th>3</th>\n",
       "      <td>8.50</td>\n",
       "      <td>CITE EL GHAZELA</td>\n",
       "      <td>EL MAGICO</td>\n",
       "      <td>95, AV. FETHI ZOUHIR</td>\n",
       "      <td>PIZZERIA</td>\n",
       "      <td>RESTAURATION</td>\n",
       "    </tr>\n",
       "    <tr>\n",
       "      <th>4</th>\n",
       "      <td>24.00</td>\n",
       "      <td>DEN-DEN</td>\n",
       "      <td>PIZZERIA KAPARI</td>\n",
       "      <td>10,RUE IBN DHIEF</td>\n",
       "      <td>RESTAURANT A LA CARTE</td>\n",
       "      <td>RESTAURATION</td>\n",
       "    </tr>\n",
       "  </tbody>\n",
       "</table>\n",
       "</div>"
      ],
      "text/plain": [
       "   Montant Ville de l'affilié Nom de l'affilié                  Adresse PV  \\\n",
       "0    39.00              BARDO           ECHEMI  AV. HEDI NOUIRA ,ENNASR II   \n",
       "1    13.00          LA SOUKRA     WOOD'S PIZZA       3, RES. EL BOSTENE E4   \n",
       "2    22.31    CITE EL GHAZELA        DI NAPOLI    45B, AV. HABIB BOURGUIBA   \n",
       "3     8.50    CITE EL GHAZELA        EL MAGICO        95, AV. FETHI ZOUHIR   \n",
       "4    24.00            DEN-DEN  PIZZERIA KAPARI            10,RUE IBN DHIEF   \n",
       "\n",
       "            Famille Aff.   Groupe Aff.  \n",
       "0              FAST FOOD  RESTAURATION  \n",
       "1               PIZZERIA  RESTAURATION  \n",
       "2  RESTAURANT A LA CARTE  RESTAURATION  \n",
       "3               PIZZERIA  RESTAURATION  \n",
       "4  RESTAURANT A LA CARTE  RESTAURATION  "
      ]
     },
     "execution_count": 4,
     "metadata": {},
     "output_type": "execute_result"
    }
   ],
   "source": [
    "df.head()"
   ]
  },
  {
   "cell_type": "code",
   "execution_count": 5,
   "id": "e9b30902",
   "metadata": {},
   "outputs": [
    {
     "data": {
      "text/plain": [
       "array(['ECHEMI', \"WOOD'S PIZZA\", 'DI NAPOLI', 'EL MAGICO',\n",
       "       'PIZZERIA KAPARI', ' LE COIN', 'RESTAURANT KFC', 'PLAN B',\n",
       "       'BAGUETTE ET BAGUETTE', 'BROWN SUGAR', 'RESTAURANT LE MAGICIEN',\n",
       "       'PARADICE', 'HOBO', 'HA FOOD', 'PAPA JOHN S', 'PARAD ICE',\n",
       "       'GOURMANDISE', \"RESTAURANT L'OLIVIER\", 'RESTAURANT ERRAYEN',\n",
       "       'THE FOOD COURT \\t', 'PIZZERIA BLACK HOUSE\\t',\n",
       "       'CAFE RESTO LES JASMINS', 'PÂTISSERIE TAKACIM', 'LATINA BISTROT\\t',\n",
       "       'MALIBU', 'GOURMANDISE ', 'LE GOURMET', 'BOMBAY', 'JAMROCK',\n",
       "       'RESTAURANT LES DAUPHINS', 'ELY S COFFE SHOP', 'CHILI S',\n",
       "       'CANTINE NEWREST', 'CAFETRIA AMIGO', 'PRET A MANGER', ' MALIBU ',\n",
       "       'PATISSERIE FANY', 'YUMMY', 'BUVETTE ACTIA', 'RESTAURANT WOW',\n",
       "       'CHOUPRALINE', 'RESTAURANT BREAKTIME', 'RESTAURANT MARHABA',\n",
       "       'DEJA VU', 'RESTO NEGOCE', 'LE BON COIN', 'SKIFA ARBI',\n",
       "       'RESTAURANT BRONX', 'RESTAURANT COOL TOUNSI', 'SCHNELL',\n",
       "       '   MALIBU ', 'THE GARDEN BISTROT', 'SALON DE THE COMME CHEZ TOI',\n",
       "       'RESTAURANT CRISTALUIM', 'BUVETTE RESTO SALHI FAKHER',\n",
       "       'RESTAURANT VA BENE', 'RESTAURANT TRIADE', 'SPOON FOODS',\n",
       "       'RESTAURANT EL MAKHZEN', 'L UZINA', 'HAPPY S', 'TIME OUT',\n",
       "       'CASCADA', 'CAFE PLAISIR\\t', 'AROMA', 'TIVOLI',\n",
       "       'PATISSERIES LA FRIANDISE'], dtype=object)"
      ]
     },
     "execution_count": 5,
     "metadata": {},
     "output_type": "execute_result"
    }
   ],
   "source": [
    "df[\"Nom de l'affilié\"].unique()"
   ]
  },
  {
   "cell_type": "code",
   "execution_count": 6,
   "id": "0cc6a4f0",
   "metadata": {},
   "outputs": [
    {
     "data": {
      "text/plain": [
       "2961             PLAN B\n",
       "2960      BUVETTE ACTIA\n",
       "2959            SCHNELL\n",
       "2958    CANTINE NEWREST\n",
       "2957             BOMBAY\n",
       "2956             PLAN B\n",
       "2955             BOMBAY\n",
       "2954             PLAN B\n",
       "2953      BUVETTE ACTIA\n",
       "2952            SCHNELL\n",
       "Name: Nom de l'affilié, dtype: object"
      ]
     },
     "execution_count": 6,
     "metadata": {},
     "output_type": "execute_result"
    }
   ],
   "source": [
    "categorical_cols = [\"Ville de l'affilié\", \"Nom de l'affilié\",\"Adresse PV\", \"Famille Aff.\",\"Groupe Aff.\"]  \n",
    "data_encoded = pd.get_dummies(df, columns=categorical_cols)\n",
    "\n",
    "data_sparse = csr_matrix(data_encoded.values)\n",
    "\n",
    "n_components = 2  # Choose the number of components to reduce to\n",
    "svd = TruncatedSVD(n_components=n_components)\n",
    "data_svd = svd.fit_transform(data_sparse)\n",
    "\n",
    "data_svd = np.c_[data_svd, df[\"Montant\"].values]\n",
    "\n",
    "cosine_similarities = cosine_similarity(data_svd)\n",
    "\n",
    "#print(cosine_similarities)\n",
    "\n",
    "def recommend_restaurants(Name, cosine_similarities, df):\n",
    "    indices = pd.Series(df.index, index=df[\"Nom de l'affilié\"]).drop_duplicates()\n",
    "\n",
    "    idx = indices[Name]\n",
    "\n",
    "    sim_scores = list(enumerate(cosine_similarities[idx]))\n",
    "\n",
    "    sim_scores = sorted(sim_scores, reverse=True)\n",
    " \n",
    "    sim_scores = sim_scores[1:11]\n",
    "\n",
    "    restaurant_indices = [i[0] for i in sim_scores]\n",
    "\n",
    "    return df[\"Nom de l'affilié\"].iloc[restaurant_indices]\n",
    "\n",
    "recommend_restaurants(\"BAGUETTE ET BAGUETTE\", cosine_similarities, df)"
   ]
  },
  {
   "cell_type": "code",
   "execution_count": 7,
   "id": "7a88693c",
   "metadata": {},
   "outputs": [
    {
     "data": {
      "text/plain": [
       "1661                    LE GOURMET\n",
       "1660                 PRET A MANGER\n",
       "1659    BUVETTE RESTO SALHI FAKHER\n",
       "1658                       CHILI S\n",
       "1657            PÂTISSERIE TAKACIM\n",
       "1656                       HA FOOD\n",
       "1655                        PLAN B\n",
       "1653            RESTAURANT MARHABA\n",
       "1652          BAGUETTE ET BAGUETTE\n",
       "Name: Nom de l'affilié, dtype: object"
      ]
     },
     "execution_count": 7,
     "metadata": {},
     "output_type": "execute_result"
    }
   ],
   "source": [
    "recommend_restaurants(\"PLAN B\", cosine_similarities, df).drop_duplicates()"
   ]
  },
  {
   "cell_type": "code",
   "execution_count": 8,
   "id": "e876e7be",
   "metadata": {},
   "outputs": [
    {
     "data": {
      "text/plain": [
       "987                    PLAN B\n",
       "986    CAFE RESTO LES JASMINS\n",
       "984      BAGUETTE ET BAGUETTE\n",
       "981      RESTAURANT L'OLIVIER\n",
       "980            RESTAURANT KFC\n",
       "978              WOOD'S PIZZA\n",
       "Name: Nom de l'affilié, dtype: object"
      ]
     },
     "execution_count": 8,
     "metadata": {},
     "output_type": "execute_result"
    }
   ],
   "source": [
    "recommend_restaurants(\"GOURMANDISE\", cosine_similarities, df).drop_duplicates()"
   ]
  },
  {
   "cell_type": "code",
   "execution_count": 9,
   "id": "531e0881",
   "metadata": {},
   "outputs": [
    {
     "data": {
      "text/plain": [
       "243              PRET A MANGER\n",
       "241            CANTINE NEWREST\n",
       "239    RESTAURANT LES DAUPHINS\n",
       "235               WOOD'S PIZZA\n",
       "Name: Nom de l'affilié, dtype: object"
      ]
     },
     "execution_count": 9,
     "metadata": {},
     "output_type": "execute_result"
    }
   ],
   "source": [
    "recommend_restaurants(\"BOMBAY\", cosine_similarities, df).drop_duplicates()"
   ]
  },
  {
   "cell_type": "code",
   "execution_count": 10,
   "id": "42372d87",
   "metadata": {},
   "outputs": [
    {
     "data": {
      "text/plain": [
       "372    BUVETTE RESTO SALHI FAKHER\n",
       "371               CANTINE NEWREST\n",
       "370        PIZZERIA BLACK HOUSE\\t\n",
       "369                 PRET A MANGER\n",
       "368                   GOURMANDISE\n",
       "365        RESTAURANT COOL TOUNSI\n",
       "364         RESTAURANT CRISTALUIM\n",
       "363                   BROWN SUGAR\n",
       "Name: Nom de l'affilié, dtype: object"
      ]
     },
     "execution_count": 10,
     "metadata": {},
     "output_type": "execute_result"
    }
   ],
   "source": [
    "recommend_restaurants(\"PARADICE\", cosine_similarities, df).drop_duplicates() "
   ]
  },
  {
   "cell_type": "code",
   "execution_count": 11,
   "id": "4e8d619a",
   "metadata": {},
   "outputs": [],
   "source": [
    "#recommend_restaurants(\"BOMBAY\", cosine_similarities, df).drop_duplicates() "
   ]
  },
  {
   "cell_type": "code",
   "execution_count": 12,
   "id": "46bd76eb",
   "metadata": {},
   "outputs": [
    {
     "data": {
      "text/plain": [
       "73    BAGUETTE ET BAGUETTE\n",
       "72         PIZZERIA KAPARI\n",
       "71              LE GOURMET\n",
       "70    RESTAURANT L'OLIVIER\n",
       "69      PÂTISSERIE TAKACIM\n",
       "68      RESTAURANT ERRAYEN\n",
       "67        LATINA BISTROT\\t\n",
       "64                  PLAN B\n",
       "Name: Nom de l'affilié, dtype: object"
      ]
     },
     "execution_count": 12,
     "metadata": {},
     "output_type": "execute_result"
    }
   ],
   "source": [
    "recommend_restaurants(\"PATISSERIES LA FRIANDISE\", cosine_similarities, df).drop_duplicates() "
   ]
  },
  {
   "cell_type": "code",
   "execution_count": 13,
   "id": "a2e67584",
   "metadata": {},
   "outputs": [
    {
     "data": {
      "text/plain": [
       "1880    BAGUETTE ET BAGUETTE\n",
       "1879                 HA FOOD\n",
       "1874            WOOD'S PIZZA\n",
       "1872      PÂTISSERIE TAKACIM\n",
       "1871             PAPA JOHN S\n",
       "Name: Nom de l'affilié, dtype: object"
      ]
     },
     "execution_count": 13,
     "metadata": {},
     "output_type": "execute_result"
    }
   ],
   "source": [
    "recommend_restaurants(\"PRET A MANGER\", cosine_similarities, df).drop_duplicates() "
   ]
  },
  {
   "cell_type": "code",
   "execution_count": 14,
   "id": "faec071d",
   "metadata": {},
   "outputs": [
    {
     "data": {
      "text/plain": [
       "151                 YUMMY\n",
       "150         PRET A MANGER\n",
       "149    PÂTISSERIE TAKACIM\n",
       "148       PATISSERIE FANY\n",
       "147      LATINA BISTROT\\t\n",
       "146           GOURMANDISE\n",
       "144                BOMBAY\n",
       "143               MALIBU \n",
       "Name: Nom de l'affilié, dtype: object"
      ]
     },
     "execution_count": 14,
     "metadata": {},
     "output_type": "execute_result"
    }
   ],
   "source": [
    "recommend_restaurants(\"CAFETRIA AMIGO\", cosine_similarities, df).drop_duplicates() "
   ]
  },
  {
   "cell_type": "code",
   "execution_count": 15,
   "id": "1eb1f479",
   "metadata": {},
   "outputs": [
    {
     "data": {
      "text/plain": [
       "258        LATINA BISTROT\\t\n",
       "257               DI NAPOLI\n",
       "256         CANTINE NEWREST\n",
       "255      PÂTISSERIE TAKACIM\n",
       "253    RESTAURANT BREAKTIME\n",
       "252             CHOUPRALINE\n",
       "Name: Nom de l'affilié, dtype: object"
      ]
     },
     "execution_count": 15,
     "metadata": {},
     "output_type": "execute_result"
    }
   ],
   "source": [
    "recommend_restaurants(\"CHILI S\", cosine_similarities, df).drop_duplicates() "
   ]
  },
  {
   "cell_type": "code",
   "execution_count": 16,
   "id": "edccd45b",
   "metadata": {},
   "outputs": [
    {
     "data": {
      "text/plain": [
       "616    CANTINE NEWREST\n",
       "615          EL MAGICO\n",
       "614      BUVETTE ACTIA\n",
       "613       RESTO NEGOCE\n",
       "610        SPOON FOODS\n",
       "607       WOOD'S PIZZA\n",
       "Name: Nom de l'affilié, dtype: object"
      ]
     },
     "execution_count": 16,
     "metadata": {},
     "output_type": "execute_result"
    }
   ],
   "source": [
    "recommend_restaurants(\"ECHEMI\", cosine_similarities, df).drop_duplicates() "
   ]
  },
  {
   "cell_type": "code",
   "execution_count": null,
   "id": "3e18df55",
   "metadata": {},
   "outputs": [],
   "source": []
  }
 ],
 "metadata": {
  "kernelspec": {
   "display_name": "Python 3 (ipykernel)",
   "language": "python",
   "name": "python3"
  },
  "language_info": {
   "codemirror_mode": {
    "name": "ipython",
    "version": 3
   },
   "file_extension": ".py",
   "mimetype": "text/x-python",
   "name": "python",
   "nbconvert_exporter": "python",
   "pygments_lexer": "ipython3",
   "version": "3.9.7"
  }
 },
 "nbformat": 4,
 "nbformat_minor": 5
}
