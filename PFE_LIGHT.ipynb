{
 "cells": [
  {
   "cell_type": "code",
   "execution_count": 1,
   "id": "74c95259",
   "metadata": {
    "ExecuteTime": {
     "start_time": "2023-08-13T19:40:29.382857Z",
     "end_time": "2023-08-13T19:40:29.727799Z"
    }
   },
   "outputs": [],
   "source": [
    "import pandas as pd \n",
    "import numpy as np\n",
    "from sklearn.cluster import KMeans\n",
    "import matplotlib.pyplot as plt\n",
    "import seaborn as sns\n",
    "from scipy.sparse import csr_matrix\n",
    "from sklearn.decomposition import TruncatedSVD\n",
    "from sklearn.metrics.pairwise import cosine_similarity"
   ]
  },
  {
   "cell_type": "code",
   "execution_count": 2,
   "id": "0f9768b7",
   "metadata": {},
   "outputs": [
    {
     "ename": "FileNotFoundError",
     "evalue": "[Errno 2] No such file or directory: 'JFM.xlsx'",
     "output_type": "error",
     "traceback": [
      "\u001B[1;31m---------------------------------------------------------------------------\u001B[0m",
      "\u001B[1;31mFileNotFoundError\u001B[0m                         Traceback (most recent call last)",
      "\u001B[1;32m~\\AppData\\Local\\Temp/ipykernel_15440/4275681239.py\u001B[0m in \u001B[0;36m<module>\u001B[1;34m\u001B[0m\n\u001B[1;32m----> 1\u001B[1;33m \u001B[0mdf\u001B[0m \u001B[1;33m=\u001B[0m \u001B[0mpd\u001B[0m\u001B[1;33m.\u001B[0m\u001B[0mread_excel\u001B[0m\u001B[1;33m(\u001B[0m\u001B[1;34m\"JFM.xlsx\"\u001B[0m \u001B[1;33m,\u001B[0m \u001B[0mengine\u001B[0m\u001B[1;33m=\u001B[0m \u001B[1;34m\"openpyxl\"\u001B[0m\u001B[1;33m)\u001B[0m\u001B[1;33m\u001B[0m\u001B[1;33m\u001B[0m\u001B[0m\n\u001B[0m",
      "\u001B[1;32m~\\anaconda3\\lib\\site-packages\\pandas\\util\\_decorators.py\u001B[0m in \u001B[0;36mwrapper\u001B[1;34m(*args, **kwargs)\u001B[0m\n\u001B[0;32m    309\u001B[0m                     \u001B[0mstacklevel\u001B[0m\u001B[1;33m=\u001B[0m\u001B[0mstacklevel\u001B[0m\u001B[1;33m,\u001B[0m\u001B[1;33m\u001B[0m\u001B[1;33m\u001B[0m\u001B[0m\n\u001B[0;32m    310\u001B[0m                 )\n\u001B[1;32m--> 311\u001B[1;33m             \u001B[1;32mreturn\u001B[0m \u001B[0mfunc\u001B[0m\u001B[1;33m(\u001B[0m\u001B[1;33m*\u001B[0m\u001B[0margs\u001B[0m\u001B[1;33m,\u001B[0m \u001B[1;33m**\u001B[0m\u001B[0mkwargs\u001B[0m\u001B[1;33m)\u001B[0m\u001B[1;33m\u001B[0m\u001B[1;33m\u001B[0m\u001B[0m\n\u001B[0m\u001B[0;32m    312\u001B[0m \u001B[1;33m\u001B[0m\u001B[0m\n\u001B[0;32m    313\u001B[0m         \u001B[1;32mreturn\u001B[0m \u001B[0mwrapper\u001B[0m\u001B[1;33m\u001B[0m\u001B[1;33m\u001B[0m\u001B[0m\n",
      "\u001B[1;32m~\\anaconda3\\lib\\site-packages\\pandas\\io\\excel\\_base.py\u001B[0m in \u001B[0;36mread_excel\u001B[1;34m(io, sheet_name, header, names, index_col, usecols, squeeze, dtype, engine, converters, true_values, false_values, skiprows, nrows, na_values, keep_default_na, na_filter, verbose, parse_dates, date_parser, thousands, comment, skipfooter, convert_float, mangle_dupe_cols, storage_options)\u001B[0m\n\u001B[0;32m    362\u001B[0m     \u001B[1;32mif\u001B[0m \u001B[1;32mnot\u001B[0m \u001B[0misinstance\u001B[0m\u001B[1;33m(\u001B[0m\u001B[0mio\u001B[0m\u001B[1;33m,\u001B[0m \u001B[0mExcelFile\u001B[0m\u001B[1;33m)\u001B[0m\u001B[1;33m:\u001B[0m\u001B[1;33m\u001B[0m\u001B[1;33m\u001B[0m\u001B[0m\n\u001B[0;32m    363\u001B[0m         \u001B[0mshould_close\u001B[0m \u001B[1;33m=\u001B[0m \u001B[1;32mTrue\u001B[0m\u001B[1;33m\u001B[0m\u001B[1;33m\u001B[0m\u001B[0m\n\u001B[1;32m--> 364\u001B[1;33m         \u001B[0mio\u001B[0m \u001B[1;33m=\u001B[0m \u001B[0mExcelFile\u001B[0m\u001B[1;33m(\u001B[0m\u001B[0mio\u001B[0m\u001B[1;33m,\u001B[0m \u001B[0mstorage_options\u001B[0m\u001B[1;33m=\u001B[0m\u001B[0mstorage_options\u001B[0m\u001B[1;33m,\u001B[0m \u001B[0mengine\u001B[0m\u001B[1;33m=\u001B[0m\u001B[0mengine\u001B[0m\u001B[1;33m)\u001B[0m\u001B[1;33m\u001B[0m\u001B[1;33m\u001B[0m\u001B[0m\n\u001B[0m\u001B[0;32m    365\u001B[0m     \u001B[1;32melif\u001B[0m \u001B[0mengine\u001B[0m \u001B[1;32mand\u001B[0m \u001B[0mengine\u001B[0m \u001B[1;33m!=\u001B[0m \u001B[0mio\u001B[0m\u001B[1;33m.\u001B[0m\u001B[0mengine\u001B[0m\u001B[1;33m:\u001B[0m\u001B[1;33m\u001B[0m\u001B[1;33m\u001B[0m\u001B[0m\n\u001B[0;32m    366\u001B[0m         raise ValueError(\n",
      "\u001B[1;32m~\\anaconda3\\lib\\site-packages\\pandas\\io\\excel\\_base.py\u001B[0m in \u001B[0;36m__init__\u001B[1;34m(self, path_or_buffer, engine, storage_options)\u001B[0m\n\u001B[0;32m   1231\u001B[0m         \u001B[0mself\u001B[0m\u001B[1;33m.\u001B[0m\u001B[0mstorage_options\u001B[0m \u001B[1;33m=\u001B[0m \u001B[0mstorage_options\u001B[0m\u001B[1;33m\u001B[0m\u001B[1;33m\u001B[0m\u001B[0m\n\u001B[0;32m   1232\u001B[0m \u001B[1;33m\u001B[0m\u001B[0m\n\u001B[1;32m-> 1233\u001B[1;33m         \u001B[0mself\u001B[0m\u001B[1;33m.\u001B[0m\u001B[0m_reader\u001B[0m \u001B[1;33m=\u001B[0m \u001B[0mself\u001B[0m\u001B[1;33m.\u001B[0m\u001B[0m_engines\u001B[0m\u001B[1;33m[\u001B[0m\u001B[0mengine\u001B[0m\u001B[1;33m]\u001B[0m\u001B[1;33m(\u001B[0m\u001B[0mself\u001B[0m\u001B[1;33m.\u001B[0m\u001B[0m_io\u001B[0m\u001B[1;33m,\u001B[0m \u001B[0mstorage_options\u001B[0m\u001B[1;33m=\u001B[0m\u001B[0mstorage_options\u001B[0m\u001B[1;33m)\u001B[0m\u001B[1;33m\u001B[0m\u001B[1;33m\u001B[0m\u001B[0m\n\u001B[0m\u001B[0;32m   1234\u001B[0m \u001B[1;33m\u001B[0m\u001B[0m\n\u001B[0;32m   1235\u001B[0m     \u001B[1;32mdef\u001B[0m \u001B[0m__fspath__\u001B[0m\u001B[1;33m(\u001B[0m\u001B[0mself\u001B[0m\u001B[1;33m)\u001B[0m\u001B[1;33m:\u001B[0m\u001B[1;33m\u001B[0m\u001B[1;33m\u001B[0m\u001B[0m\n",
      "\u001B[1;32m~\\anaconda3\\lib\\site-packages\\pandas\\io\\excel\\_openpyxl.py\u001B[0m in \u001B[0;36m__init__\u001B[1;34m(self, filepath_or_buffer, storage_options)\u001B[0m\n\u001B[0;32m    520\u001B[0m         \"\"\"\n\u001B[0;32m    521\u001B[0m         \u001B[0mimport_optional_dependency\u001B[0m\u001B[1;33m(\u001B[0m\u001B[1;34m\"openpyxl\"\u001B[0m\u001B[1;33m)\u001B[0m\u001B[1;33m\u001B[0m\u001B[1;33m\u001B[0m\u001B[0m\n\u001B[1;32m--> 522\u001B[1;33m         \u001B[0msuper\u001B[0m\u001B[1;33m(\u001B[0m\u001B[1;33m)\u001B[0m\u001B[1;33m.\u001B[0m\u001B[0m__init__\u001B[0m\u001B[1;33m(\u001B[0m\u001B[0mfilepath_or_buffer\u001B[0m\u001B[1;33m,\u001B[0m \u001B[0mstorage_options\u001B[0m\u001B[1;33m=\u001B[0m\u001B[0mstorage_options\u001B[0m\u001B[1;33m)\u001B[0m\u001B[1;33m\u001B[0m\u001B[1;33m\u001B[0m\u001B[0m\n\u001B[0m\u001B[0;32m    523\u001B[0m \u001B[1;33m\u001B[0m\u001B[0m\n\u001B[0;32m    524\u001B[0m     \u001B[1;33m@\u001B[0m\u001B[0mproperty\u001B[0m\u001B[1;33m\u001B[0m\u001B[1;33m\u001B[0m\u001B[0m\n",
      "\u001B[1;32m~\\anaconda3\\lib\\site-packages\\pandas\\io\\excel\\_base.py\u001B[0m in \u001B[0;36m__init__\u001B[1;34m(self, filepath_or_buffer, storage_options)\u001B[0m\n\u001B[0;32m    408\u001B[0m         )\n\u001B[0;32m    409\u001B[0m         \u001B[1;32mif\u001B[0m \u001B[1;32mnot\u001B[0m \u001B[0misinstance\u001B[0m\u001B[1;33m(\u001B[0m\u001B[0mfilepath_or_buffer\u001B[0m\u001B[1;33m,\u001B[0m \u001B[1;33m(\u001B[0m\u001B[0mExcelFile\u001B[0m\u001B[1;33m,\u001B[0m \u001B[0mself\u001B[0m\u001B[1;33m.\u001B[0m\u001B[0m_workbook_class\u001B[0m\u001B[1;33m)\u001B[0m\u001B[1;33m)\u001B[0m\u001B[1;33m:\u001B[0m\u001B[1;33m\u001B[0m\u001B[1;33m\u001B[0m\u001B[0m\n\u001B[1;32m--> 410\u001B[1;33m             self.handles = get_handle(\n\u001B[0m\u001B[0;32m    411\u001B[0m                 \u001B[0mfilepath_or_buffer\u001B[0m\u001B[1;33m,\u001B[0m \u001B[1;34m\"rb\"\u001B[0m\u001B[1;33m,\u001B[0m \u001B[0mstorage_options\u001B[0m\u001B[1;33m=\u001B[0m\u001B[0mstorage_options\u001B[0m\u001B[1;33m,\u001B[0m \u001B[0mis_text\u001B[0m\u001B[1;33m=\u001B[0m\u001B[1;32mFalse\u001B[0m\u001B[1;33m\u001B[0m\u001B[1;33m\u001B[0m\u001B[0m\n\u001B[0;32m    412\u001B[0m             )\n",
      "\u001B[1;32m~\\anaconda3\\lib\\site-packages\\pandas\\io\\common.py\u001B[0m in \u001B[0;36mget_handle\u001B[1;34m(path_or_buf, mode, encoding, compression, memory_map, is_text, errors, storage_options)\u001B[0m\n\u001B[0;32m    709\u001B[0m         \u001B[1;32melse\u001B[0m\u001B[1;33m:\u001B[0m\u001B[1;33m\u001B[0m\u001B[1;33m\u001B[0m\u001B[0m\n\u001B[0;32m    710\u001B[0m             \u001B[1;31m# Binary mode\u001B[0m\u001B[1;33m\u001B[0m\u001B[1;33m\u001B[0m\u001B[0m\n\u001B[1;32m--> 711\u001B[1;33m             \u001B[0mhandle\u001B[0m \u001B[1;33m=\u001B[0m \u001B[0mopen\u001B[0m\u001B[1;33m(\u001B[0m\u001B[0mhandle\u001B[0m\u001B[1;33m,\u001B[0m \u001B[0mioargs\u001B[0m\u001B[1;33m.\u001B[0m\u001B[0mmode\u001B[0m\u001B[1;33m)\u001B[0m\u001B[1;33m\u001B[0m\u001B[1;33m\u001B[0m\u001B[0m\n\u001B[0m\u001B[0;32m    712\u001B[0m         \u001B[0mhandles\u001B[0m\u001B[1;33m.\u001B[0m\u001B[0mappend\u001B[0m\u001B[1;33m(\u001B[0m\u001B[0mhandle\u001B[0m\u001B[1;33m)\u001B[0m\u001B[1;33m\u001B[0m\u001B[1;33m\u001B[0m\u001B[0m\n\u001B[0;32m    713\u001B[0m \u001B[1;33m\u001B[0m\u001B[0m\n",
      "\u001B[1;31mFileNotFoundError\u001B[0m: [Errno 2] No such file or directory: 'JFM.xlsx'"
     ]
    }
   ],
   "source": [
    "df = pd.read_excel(\"JFM.xlsx\" , engine= \"openpyxl\")"
   ]
  },
  {
   "cell_type": "code",
   "execution_count": null,
   "id": "ac8bf852",
   "metadata": {},
   "outputs": [],
   "source": [
    "df.head()"
   ]
  },
  {
   "cell_type": "code",
   "execution_count": null,
   "id": "8e3c2fd0",
   "metadata": {},
   "outputs": [],
   "source": [
    "df.shape"
   ]
  },
  {
   "cell_type": "code",
   "execution_count": null,
   "id": "312b898b",
   "metadata": {},
   "outputs": [],
   "source": [
    "df.info()"
   ]
  },
  {
   "cell_type": "code",
   "execution_count": null,
   "id": "c849edb0",
   "metadata": {},
   "outputs": [],
   "source": [
    "pd.set_option('display.max_rows', None)\n",
    "pd.set_option('display.max_columns', None)"
   ]
  },
  {
   "cell_type": "code",
   "execution_count": null,
   "id": "2ec3ca89",
   "metadata": {},
   "outputs": [],
   "source": [
    "df['Type Transaction'].value_counts()"
   ]
  },
  {
   "cell_type": "code",
   "execution_count": null,
   "id": "6dd5d865",
   "metadata": {},
   "outputs": [],
   "source": [
    "df['Code Transaction'].value_counts()"
   ]
  },
  {
   "cell_type": "markdown",
   "id": "c5ef43ce",
   "metadata": {},
   "source": [
    "Pour les Codes de Transaction on a \n",
    "\n",
    "Code 0 : achat\n",
    "\n",
    "Code 60 : remplacement\n",
    "\n",
    "Code 90 : Chargement Positif\n",
    "\n",
    "Code 91 : Chargement Négatif\n"
   ]
  },
  {
   "cell_type": "markdown",
   "id": "8fcf1544",
   "metadata": {},
   "source": [
    "\n"
   ]
  },
  {
   "cell_type": "code",
   "execution_count": 9,
   "id": "2dc0fcd1",
   "metadata": {},
   "outputs": [
    {
     "ename": "NameError",
     "evalue": "name 'df' is not defined",
     "output_type": "error",
     "traceback": [
      "\u001B[1;31m---------------------------------------------------------------------------\u001B[0m",
      "\u001B[1;31mNameError\u001B[0m                                 Traceback (most recent call last)",
      "\u001B[1;32m~\\AppData\\Local\\Temp/ipykernel_6876/1653251941.py\u001B[0m in \u001B[0;36m<module>\u001B[1;34m\u001B[0m\n\u001B[1;32m----> 1\u001B[1;33m \u001B[0mdf\u001B[0m\u001B[1;33m[\u001B[0m\u001B[1;34m'Id du service'\u001B[0m\u001B[1;33m]\u001B[0m\u001B[1;33m.\u001B[0m\u001B[0mvalue_counts\u001B[0m\u001B[1;33m(\u001B[0m\u001B[1;33m)\u001B[0m\u001B[1;33m\u001B[0m\u001B[1;33m\u001B[0m\u001B[0m\n\u001B[0m",
      "\u001B[1;31mNameError\u001B[0m: name 'df' is not defined"
     ]
    }
   ],
   "source": [
    "df['Id du service'].value_counts()"
   ]
  },
  {
   "cell_type": "markdown",
   "id": "d795be43",
   "metadata": {},
   "source": [
    "Pour les Codes des Ids du service on a \n",
    "\n",
    "Code 20 : Carte repas\n",
    "\n",
    "Code 24 : Carte Cadeau \n",
    "\n",
    "Code 26 : Carte Habillement "
   ]
  },
  {
   "cell_type": "code",
   "execution_count": null,
   "id": "fad9cda9",
   "metadata": {},
   "outputs": [],
   "source": [
    "df['Résponse'].value_counts()"
   ]
  },
  {
   "cell_type": "markdown",
   "id": "171111ba",
   "metadata": {},
   "source": [
    "Pour les codes des Réponses, Nous allons nous intéresser que au code 0 qui signifie que La transaction est approuvée."
   ]
  },
  {
   "cell_type": "code",
   "execution_count": 10,
   "id": "0fddcb01",
   "metadata": {},
   "outputs": [
    {
     "ename": "NameError",
     "evalue": "name 'df' is not defined",
     "output_type": "error",
     "traceback": [
      "\u001B[1;31m---------------------------------------------------------------------------\u001B[0m",
      "\u001B[1;31mNameError\u001B[0m                                 Traceback (most recent call last)",
      "\u001B[1;32m~\\AppData\\Local\\Temp/ipykernel_6876/1634633046.py\u001B[0m in \u001B[0;36m<module>\u001B[1;34m\u001B[0m\n\u001B[1;32m----> 1\u001B[1;33m \u001B[0mdf\u001B[0m\u001B[1;33m[\u001B[0m\u001B[1;34m\"Secteur\"\u001B[0m\u001B[1;33m]\u001B[0m\u001B[1;33m.\u001B[0m\u001B[0mvalue_counts\u001B[0m\u001B[1;33m(\u001B[0m\u001B[1;33m)\u001B[0m\u001B[1;33m\u001B[0m\u001B[1;33m\u001B[0m\u001B[0m\n\u001B[0m",
      "\u001B[1;31mNameError\u001B[0m: name 'df' is not defined"
     ]
    }
   ],
   "source": [
    "df[\"Secteur\"].value_counts()"
   ]
  },
  {
   "cell_type": "code",
   "execution_count": null,
   "id": "7f74e9fb",
   "metadata": {},
   "outputs": [],
   "source": [
    "df[\"Groupe Aff.\"].value_counts()"
   ]
  },
  {
   "cell_type": "code",
   "execution_count": null,
   "id": "a3ff4739",
   "metadata": {},
   "outputs": [],
   "source": [
    "df[\"Famille Aff.\"].value_counts()"
   ]
  },
  {
   "cell_type": "code",
   "execution_count": null,
   "id": "0975f2d7",
   "metadata": {},
   "outputs": [],
   "source": [
    "df[\"Nom PV\"].value_counts()"
   ]
  },
  {
   "cell_type": "code",
   "execution_count": null,
   "id": "e16c726d",
   "metadata": {},
   "outputs": [],
   "source": [
    "df.loc[(df.Secteur == \"Restaurant et autres activit?s\"), 'Secteur'] = 'Restaurant et autres activités'"
   ]
  },
  {
   "cell_type": "code",
   "execution_count": null,
   "id": "1c4e5b53",
   "metadata": {},
   "outputs": [],
   "source": [
    "df[\"Secteur\"].value_counts()"
   ]
  },
  {
   "cell_type": "code",
   "execution_count": null,
   "id": "9b2d6dfb",
   "metadata": {},
   "outputs": [],
   "source": [
    "df_c1 = df.drop(df.loc[(df[\"Code Transaction\"] == 90 ) | (df[\"Code Transaction\"] == 91 ) | (df[\"Code Transaction\"] == 60 ) ].index , axis = 0)"
   ]
  },
  {
   "cell_type": "code",
   "execution_count": null,
   "id": "3b2d9bbb",
   "metadata": {},
   "outputs": [],
   "source": [
    "df_c1 = df_c1.drop(df_c1.loc[(df_c1[\"Résponse\"] == 14 ) | (df_c1[\"Résponse\"] == 51 ) | (df_c1[\"Résponse\"] == 62 ) | (df_c1[\"Résponse\"] == 99 )].index , axis = 0)"
   ]
  },
  {
   "cell_type": "code",
   "execution_count": null,
   "id": "0c76bcd7",
   "metadata": {},
   "outputs": [],
   "source": [
    "df_c1.shape"
   ]
  },
  {
   "cell_type": "code",
   "execution_count": null,
   "id": "fc07e55e",
   "metadata": {},
   "outputs": [],
   "source": [
    "df.shape"
   ]
  },
  {
   "cell_type": "code",
   "execution_count": null,
   "id": "0c334145",
   "metadata": {},
   "outputs": [],
   "source": [
    "df_c1.head()"
   ]
  },
  {
   "cell_type": "code",
   "execution_count": null,
   "id": "7a26e381",
   "metadata": {},
   "outputs": [],
   "source": [
    "df_c1[\"Résponse\"].value_counts()"
   ]
  },
  {
   "cell_type": "code",
   "execution_count": null,
   "id": "26c687de",
   "metadata": {},
   "outputs": [],
   "source": [
    "df_c1[\"Code Transaction\"].value_counts()"
   ]
  },
  {
   "cell_type": "code",
   "execution_count": null,
   "id": "eadd6c45",
   "metadata": {},
   "outputs": [],
   "source": [
    "df_c1['Id du service'].value_counts()"
   ]
  },
  {
   "cell_type": "code",
   "execution_count": null,
   "id": "2c70fa3d",
   "metadata": {},
   "outputs": [],
   "source": [
    "df_c1[\"Consumer_ID\"].value_counts()"
   ]
  },
  {
   "cell_type": "code",
   "execution_count": null,
   "id": "482014db",
   "metadata": {},
   "outputs": [],
   "source": [
    "df_c1[\"Groupe Aff.\"].value_counts()"
   ]
  },
  {
   "cell_type": "code",
   "execution_count": null,
   "id": "674b29e5",
   "metadata": {},
   "outputs": [],
   "source": [
    "df_c1[\"Secteur\"].value_counts()"
   ]
  },
  {
   "cell_type": "code",
   "execution_count": null,
   "id": "31143d2a",
   "metadata": {},
   "outputs": [],
   "source": [
    "df_c1[\"Famille Aff.\"].value_counts()"
   ]
  },
  {
   "cell_type": "code",
   "execution_count": null,
   "id": "c76ab40e",
   "metadata": {},
   "outputs": [],
   "source": [
    "#df_c1.drop_duplicates(inplace = True)"
   ]
  },
  {
   "cell_type": "code",
   "execution_count": null,
   "id": "1ab8d663",
   "metadata": {},
   "outputs": [],
   "source": [
    "df_c1[\"Montant\"].dropna(inplace = True)"
   ]
  },
  {
   "cell_type": "code",
   "execution_count": null,
   "id": "089a0e60",
   "metadata": {},
   "outputs": [],
   "source": [
    "df_c1[\"Ville de l'affilié\"].dropna(inplace = True)"
   ]
  },
  {
   "cell_type": "code",
   "execution_count": null,
   "id": "958eae90",
   "metadata": {},
   "outputs": [],
   "source": [
    "df_c1[\"Nom de l'affilié\"].dropna(inplace = True)"
   ]
  },
  {
   "cell_type": "code",
   "execution_count": null,
   "id": "a9fb0d2c",
   "metadata": {},
   "outputs": [],
   "source": [
    "df_c1[\"Adresse PV\"].dropna(inplace = True)"
   ]
  },
  {
   "cell_type": "code",
   "execution_count": null,
   "id": "96fe902d",
   "metadata": {},
   "outputs": [],
   "source": [
    "df_c1[\"Nom PV\"].dropna(inplace = True)"
   ]
  },
  {
   "cell_type": "code",
   "execution_count": null,
   "id": "acb01dcf",
   "metadata": {},
   "outputs": [],
   "source": [
    "df_c1[\"Famille Aff.\"].dropna(inplace = True)"
   ]
  },
  {
   "cell_type": "code",
   "execution_count": null,
   "id": "a20276a9",
   "metadata": {},
   "outputs": [],
   "source": [
    "df_c1[\"Groupe Aff.\"].dropna(inplace = True)"
   ]
  },
  {
   "cell_type": "code",
   "execution_count": null,
   "id": "45ad86a0",
   "metadata": {},
   "outputs": [],
   "source": [
    "df_c1[\"Montant\"].isna()"
   ]
  },
  {
   "cell_type": "code",
   "execution_count": null,
   "id": "a12c7cb8",
   "metadata": {},
   "outputs": [],
   "source": [
    "df_c1[\"Montant\"].isnull()"
   ]
  },
  {
   "cell_type": "code",
   "execution_count": null,
   "id": "20e01c4d",
   "metadata": {},
   "outputs": [],
   "source": [
    "df_c1[\"Ville de l'affilié\"].isna()"
   ]
  },
  {
   "cell_type": "code",
   "execution_count": null,
   "id": "34b23b8f",
   "metadata": {},
   "outputs": [],
   "source": [
    "df_c1[\"Ville de l'affilié\"].isnull()"
   ]
  },
  {
   "cell_type": "code",
   "execution_count": null,
   "id": "7bf52719",
   "metadata": {},
   "outputs": [],
   "source": [
    "df_c1[\"Nom de l'affilié\"].isna()"
   ]
  },
  {
   "cell_type": "code",
   "execution_count": null,
   "id": "ff800298",
   "metadata": {},
   "outputs": [],
   "source": [
    "df_c1[\"Nom de l'affilié\"].isnull()"
   ]
  },
  {
   "cell_type": "code",
   "execution_count": null,
   "id": "c50425a9",
   "metadata": {},
   "outputs": [],
   "source": [
    "df_c1[\"Adresse PV\"].isna()"
   ]
  },
  {
   "cell_type": "code",
   "execution_count": null,
   "id": "5a57ceb2",
   "metadata": {},
   "outputs": [],
   "source": [
    "df_c1[\"Adresse PV\"].isnull()"
   ]
  },
  {
   "cell_type": "code",
   "execution_count": null,
   "id": "00913c0c",
   "metadata": {},
   "outputs": [],
   "source": [
    "df_c1[\"Nom PV\"].isna()"
   ]
  },
  {
   "cell_type": "code",
   "execution_count": null,
   "id": "217f4365",
   "metadata": {},
   "outputs": [],
   "source": [
    "df_c1[\"Nom PV\"].isnull()"
   ]
  },
  {
   "cell_type": "code",
   "execution_count": null,
   "id": "381378fa",
   "metadata": {},
   "outputs": [],
   "source": [
    "df_c1[\"Famille Aff.\"].isna()"
   ]
  },
  {
   "cell_type": "code",
   "execution_count": null,
   "id": "f3acc1e8",
   "metadata": {},
   "outputs": [],
   "source": [
    "df_c1[\"Famille Aff.\"].isnull()"
   ]
  },
  {
   "cell_type": "code",
   "execution_count": null,
   "id": "bb3af464",
   "metadata": {},
   "outputs": [],
   "source": [
    "df_c1[\"Groupe Aff.\"].isna()"
   ]
  },
  {
   "cell_type": "code",
   "execution_count": null,
   "id": "925c2a42",
   "metadata": {},
   "outputs": [],
   "source": [
    "df_c1[\"Groupe Aff.\"].isna()"
   ]
  },
  {
   "cell_type": "code",
   "execution_count": null,
   "id": "c45c9768",
   "metadata": {},
   "outputs": [],
   "source": [
    "sns.catplot(x=\"Nom PV\", y=\"Montant\", kind=\"strip\", data=df_c1)"
   ]
  },
  {
   "cell_type": "code",
   "execution_count": null,
   "id": "8919bdfe",
   "metadata": {},
   "outputs": [],
   "source": [
    "df_c1 = df_c1.drop(df_c1.loc[(df_c1[\"Montant\"] <= 0 )].index , axis = 0)"
   ]
  },
  {
   "cell_type": "code",
   "execution_count": null,
   "id": "b9459940",
   "metadata": {},
   "outputs": [],
   "source": [
    "sns.catplot(x=\"Nom PV\", y=\"Montant\", kind=\"strip\", data=df_c1)"
   ]
  },
  {
   "cell_type": "code",
   "execution_count": null,
   "id": "d2541d88",
   "metadata": {},
   "outputs": [],
   "source": [
    "df_c1[\"Id du service\"].value_counts()"
   ]
  },
  {
   "cell_type": "code",
   "execution_count": null,
   "id": "34a3a133",
   "metadata": {},
   "outputs": [],
   "source": [
    "df_c20 = df_c1.loc[(df_c1[\"Id du service\"] == 20 )].copy()\n",
    "df_c24 = df_c1.loc[(df_c1[\"Id du service\"] == 24 )].copy()"
   ]
  },
  {
   "cell_type": "code",
   "execution_count": null,
   "id": "d46e3388",
   "metadata": {},
   "outputs": [],
   "source": [
    "df_c20.shape"
   ]
  },
  {
   "cell_type": "code",
   "execution_count": null,
   "id": "86e2e977",
   "metadata": {},
   "outputs": [],
   "source": [
    "df_c24.shape"
   ]
  },
  {
   "cell_type": "code",
   "execution_count": null,
   "id": "6c245344",
   "metadata": {},
   "outputs": [],
   "source": [
    "#df_c1 = df_c1.drop(df_c1.loc[(df_c1[\"Id du service\"] == 24 ) ].index , axis = 0)"
   ]
  },
  {
   "cell_type": "code",
   "execution_count": null,
   "id": "e330810f",
   "metadata": {},
   "outputs": [],
   "source": [
    "df_c1[\"Id du service\"].value_counts()"
   ]
  },
  {
   "cell_type": "code",
   "execution_count": null,
   "id": "b916b8da",
   "metadata": {},
   "outputs": [],
   "source": [
    "df_c20[\"Montant\"].value_counts()"
   ]
  },
  {
   "cell_type": "code",
   "execution_count": null,
   "id": "05e7c91b",
   "metadata": {},
   "outputs": [],
   "source": [
    "df_c20[\"Nom de l'affilié\"].value_counts()"
   ]
  },
  {
   "cell_type": "code",
   "execution_count": null,
   "id": "b85bf40d",
   "metadata": {},
   "outputs": [],
   "source": [
    "sns.catplot(x=\"Nom PV\", y=\"Montant\", kind=\"strip\", data=df_c20)"
   ]
  },
  {
   "cell_type": "code",
   "execution_count": null,
   "id": "3fdeea51",
   "metadata": {},
   "outputs": [],
   "source": [
    "sns.set(rc={'figure.figsize':(16.7,12.27)})\n",
    "sns.countplot(x=\"Secteur\", data=df_c20)\n",
    "plt.show()"
   ]
  },
  {
   "cell_type": "code",
   "execution_count": null,
   "id": "38e45c05",
   "metadata": {},
   "outputs": [],
   "source": [
    "df_c20_v2 = df_c20[df_c20['Secteur'] == \"GMS\"]\n",
    "df_c20_v2.head()"
   ]
  },
  {
   "cell_type": "code",
   "execution_count": null,
   "id": "54a77a1e",
   "metadata": {},
   "outputs": [],
   "source": [
    "df_c20_v2[\"Nom de l'affilié\"].value_counts()"
   ]
  },
  {
   "cell_type": "code",
   "execution_count": null,
   "id": "4b9c0b9b",
   "metadata": {},
   "outputs": [],
   "source": [
    "df_c20_v2[\"Nom PV\"].value_counts()"
   ]
  },
  {
   "cell_type": "code",
   "execution_count": null,
   "id": "e902b58d",
   "metadata": {},
   "outputs": [],
   "source": [
    "df_c20 = df_c20.drop(df_c20.loc[(df_c20[\"Secteur\"] == \"GMS\" )].index , axis = 0)\n",
    "df_c20.head()"
   ]
  },
  {
   "cell_type": "code",
   "execution_count": null,
   "id": "c3a0d478",
   "metadata": {},
   "outputs": [],
   "source": [
    "df_c20.shape"
   ]
  },
  {
   "cell_type": "code",
   "execution_count": null,
   "id": "62d76876",
   "metadata": {},
   "outputs": [],
   "source": [
    "df_c20[\"Montant\"].value_counts()"
   ]
  },
  {
   "cell_type": "code",
   "execution_count": null,
   "id": "cc8e0e36",
   "metadata": {},
   "outputs": [],
   "source": [
    "df_c20 = df_c20.drop(df_c20.loc[(df_c20[\"Montant\"] < 1.5 )].index , axis = 0)"
   ]
  },
  {
   "cell_type": "code",
   "execution_count": null,
   "id": "b8672c5b",
   "metadata": {},
   "outputs": [],
   "source": [
    "df_c20.shape"
   ]
  },
  {
   "cell_type": "code",
   "execution_count": null,
   "id": "225828b7",
   "metadata": {},
   "outputs": [],
   "source": [
    "df_c20[\"Montant\"].value_counts()"
   ]
  },
  {
   "cell_type": "code",
   "execution_count": null,
   "id": "478c08b7",
   "metadata": {},
   "outputs": [],
   "source": [
    "df_c20 = df_c20.drop(df_c20.loc[(df_c20[\"Montant\"] > 800 )].index , axis = 0)"
   ]
  },
  {
   "cell_type": "code",
   "execution_count": null,
   "id": "85f926f6",
   "metadata": {},
   "outputs": [],
   "source": [
    "df_c20.shape"
   ]
  },
  {
   "cell_type": "code",
   "execution_count": null,
   "id": "5921001f",
   "metadata": {},
   "outputs": [],
   "source": [
    "sns.catplot(x=\"Nom PV\", y=\"Montant\", kind=\"strip\", data=df_c20 )"
   ]
  },
  {
   "cell_type": "code",
   "execution_count": null,
   "id": "a7fdf9d3",
   "metadata": {},
   "outputs": [],
   "source": [
    "df_c20 = df_c20.drop(df_c20.loc[(df_c20[\"Montant\"] > 200 )].index , axis = 0)"
   ]
  },
  {
   "cell_type": "code",
   "execution_count": null,
   "id": "a200ee3a",
   "metadata": {},
   "outputs": [],
   "source": [
    "sns.catplot(x=\"Nom PV\", y=\"Montant\", kind=\"strip\", data=df_c20 )"
   ]
  },
  {
   "cell_type": "code",
   "execution_count": null,
   "id": "fb9bffeb",
   "metadata": {},
   "outputs": [],
   "source": [
    "df_c20.shape"
   ]
  },
  {
   "cell_type": "code",
   "execution_count": null,
   "id": "38c01de8",
   "metadata": {},
   "outputs": [],
   "source": [
    "df_c20.head()"
   ]
  },
  {
   "cell_type": "code",
   "execution_count": null,
   "id": "a50ebb4a",
   "metadata": {},
   "outputs": [],
   "source": [
    "df_c20[\"Nom de l'affilié\"].value_counts()"
   ]
  },
  {
   "cell_type": "code",
   "execution_count": null,
   "id": "ac2c4186",
   "metadata": {},
   "outputs": [],
   "source": [
    "df_c20.loc[(df_c20[\"Nom de l'affilié\"] == \"CHEMI FOOD AOUINA\") | (df_c20[\"Nom de l'affilié\"] == \"STE CHEMI FOOD COMPANY\"), \"Nom de l'affilié\"] = 'ECHEMI'\n",
    "\n",
    "df_c20.loc[(df_c20[\"Nom de l'affilié\"] == \"PARADICE\") | (df_c20[\"Nom de l'affilié\"] == \" PARAD ICE\"), \"Nom de l'affilié\"] = \"PARADICE\"\n",
    "\n",
    "df_c20.loc[(df_c20[\"Nom de l'affilié\"] == \"PLAN B\") | (df_c20[\"Nom de l'affilié\"] == \" PLAN B\"), \"Nom de l'affilié\"] = 'PLAN B'\n",
    "\n",
    "df_c20.loc[(df_c20[\"Nom de l'affilié\"] == \"MALIBU\") | (df_c20[\"Nom de l'affilié\"] == \" MALIBU\") | (df_c20[\"Nom de l'affilié\"] == \"  MALIBU\") | (df_c20[\"Nom de l'affilié\"] == \"   MALIBU\") | (df_c20[\"Nom de l'affilié\"] == \"RESTAURANT MALIBU\"), \"Nom de l'affilié\"] = 'MALIBU'"
   ]
  },
  {
   "cell_type": "code",
   "execution_count": null,
   "id": "a2df3520",
   "metadata": {},
   "outputs": [],
   "source": [
    "df_c20.loc[(df_c20[\"Nom PV\"] == \"AF COFFEE SHOP\") | (df_c20[\"Nom PV\"] == \"AF COFFEE SHOP b\"), 'Nom PV'] = 'AF COFFEE SHOP'\n",
    "\n",
    "df_c20.loc[(df_c20[\"Nom PV\"] == \"BENKAY SUSHI.\"), 'Nom PV'] = 'BENKAY SUSHI'\n",
    "\n",
    "df_c20.loc[(df_c20[\"Nom PV\"] == \"DAPIETRO\") | (df_c20[\"Nom PV\"] == \"DA PIETRO ENNASR\") | (df_c20[\"Nom PV\"] == \"DA PIETRO SIDI BOUSAID\"), 'Nom PV'] = 'DA PIETRO'\n",
    "\n",
    "df_c20.loc[(df_c20[\"Nom PV\"] == \"DEJA VU\") | (df_c20[\"Nom PV\"] == \"DEJA Vu\"), 'Nom PV'] = 'DEJA VU'\n",
    "\n",
    "df_c20.loc[(df_c20[\"Nom PV\"] == \"DI NAPOLI\") | (df_c20[\"Nom PV\"] == \"DI NAPOLI G\"), 'Nom PV'] = 'DI NAPOLI'\n",
    "\n",
    "df_c20.loc[(df_c20[\"Nom PV\"] == \"DIET FACTORY\") | (df_c20[\"Nom PV\"] == \"DIET FACTORY.\"), 'Nom PV'] = 'DIET FACTORY'\n",
    "\n",
    "df_c20.loc[(df_c20[\"Nom PV\"] == \"CHEMI FOOD AOUINA\") | (df_c20[\"Nom PV\"] == \"STE CHEMI FOOD COMPANY\"), 'Nom PV'] = 'ECHEMI'\n",
    "\n",
    "df_c20.loc[(df_c20[\"Nom PV\"] == \"FRATELLI\") | (df_c20[\"Nom PV\"] == \"FRATELLI FAST FOOD\"), 'Nom PV'] = 'FRATELLI'\n",
    "\n",
    "df_c20.loc[(df_c20[\"Nom PV\"] == \"GOOMB'S BOUMHAL\") | (df_c20[\"Nom PV\"] == \"GOOMBA'S PIZZA\"), 'Nom PV'] = \"GOOMBA'S\"\n",
    "\n",
    "df_c20.loc[(df_c20[\"Nom PV\"] == \"GUSTOSO\") | (df_c20[\"Nom PV\"] == \"GUSTOSO CITE EL KHADHRA\") | (df_c20[\"Nom PV\"] == \"GUSTOSO L'AOUINA\") | (df_c20[\"Nom PV\"] == \"GUSTOSO ETTAHRIR\") | (df_c20[\"Nom PV\"] == \"GUSTOSO.\") | (df_c20[\"Nom PV\"] == \"GUSTOSO..\"), 'Nom PV'] = 'GUSTOSO'\n",
    "\n",
    "df_c20.loc[(df_c20[\"Nom PV\"] == \"JAWHARA\") | (df_c20[\"Nom PV\"] == \"JAWHARA.\"), 'Nom PV'] = 'JAWHARA'\n",
    "\n",
    "df_c20.loc[(df_c20[\"Nom PV\"] == \"JOE'S PIZZA\") | (df_c20[\"Nom PV\"] == \"JOE S PIZZA\"), 'Nom PV'] = \"JOE'S PIZZA\"\n",
    "\n",
    "df_c20.loc[(df_c20[\"Nom PV\"] == \"KASTELO\") | (df_c20[\"Nom PV\"] == \"KASTELO\"), 'Nom PV'] = 'KASTELO'\n",
    "\n",
    "df_c20.loc[(df_c20[\"Nom PV\"] == \"LAUSANNE\") | (df_c20[\"Nom PV\"] == \"LAUSANNE.\"), 'Nom PV'] = 'LAUSANNE'\n",
    "\n",
    "df_c20.loc[(df_c20[\"Nom PV\"] == \"PARADICE\") | (df_c20[\"Nom PV\"] == \" PARADICE\"), 'Nom PV'] = \"PARADICE\"\n",
    "\n",
    "df_c20.loc[(df_c20[\"Nom PV\"] == \"PLAN B\") | (df_c20[\"Nom PV\"] == \" PLAN B\"), 'Nom PV'] = 'PLAN B'\n",
    "\n",
    "df_c20.loc[(df_c20[\"Nom PV\"] == \"PATISSERIE TAKACIM\") | (df_c20[\"Nom PV\"] == \"PÂTISSERIE TAKACIM\"), 'Nom PV'] = 'PATISSERIE TAKACIM'\n",
    "\n",
    "df_c20.loc[(df_c20[\"Nom PV\"] == \"PATISSERIE SELLEM\") | (df_c20[\"Nom PV\"] == \"PÂTISSERIE SELLEM\"), 'Nom PV'] = 'PATISSERIE SELLEM'"
   ]
  },
  {
   "cell_type": "code",
   "execution_count": null,
   "id": "fd3517c8",
   "metadata": {},
   "outputs": [],
   "source": [
    "df_c20.loc[(df_c20[\"Ville de l'affilié\"] == \"CITE ELGHAZELA\") | (df_c20[\"Ville de l'affilié\"] == \"CITE EL GHAZELA\"), \"Ville de l'affilié\"] = 'CITE EL GHAZELA'\n",
    "\n",
    "df_c20.loc[(df_c20[\"Ville de l'affilié\"] == \"CITE MEHIRI\") | (df_c20[\"Ville de l'affilié\"] == \"CITE M'HIRI\") | (df_c20[\"Ville de l'affilié\"] == \"CITE MHIRI\"), \"Ville de l'affilié\"] = 'CITE MEHIRI'\n",
    "\n",
    "df_c20.loc[(df_c20[\"Ville de l'affilié\"] == \"DEN DEN\") | (df_c20[\"Ville de l'affilié\"] == \"DEN-DEN\"), \"Ville de l'affilié\"] = 'DEN-DEN'\n",
    "\n",
    "df_c20.loc[(df_c20[\"Ville de l'affilié\"] == \"EL OMRANE\") | (df_c20[\"Ville de l'affilié\"] == \"EL OMRAN\"), \"Ville de l'affilié\"] = 'EL OMRANE'\n",
    "\n",
    "df_c20.loc[(df_c20[\"Ville de l'affilié\"] == \"EL OMRANE SUP\") | (df_c20[\"Ville de l'affilié\"] == \"EL OMRAN SUP\"), \"Ville de l'affilié\"] = 'EL OMRANE SUP'\n",
    "\n",
    "df_c20.loc[(df_c20[\"Ville de l'affilié\"] == \"EL OUERDIA\") | (df_c20[\"Ville de l'affilié\"] == \"EL OUARDIA\"), \"Ville de l'affilié\"] = 'EL OUARDIA'\n",
    "\n",
    "df_c20.loc[(df_c20[\"Ville de l'affilié\"] == \"HAMMAM-LIF\") | (df_c20[\"Ville de l'affilié\"] == \"HAMMAM LIF\") | (df_c20[\"Ville de l'affilié\"] == \"HAMMA LIF\"), \"Ville de l'affilié\"] = 'HAMMAM-LIF'\n",
    "\n",
    "df_c20.loc[(df_c20[\"Ville de l'affilié\"] == \"LA PETITE ARIANA\") | (df_c20[\"Ville de l'affilié\"] == \"ARIANA ESSOGHRA\"), \"Ville de l'affilié\"] = 'ARIANA ESSOGHRA'\n",
    "\n",
    "df_c20.loc[(df_c20[\"Ville de l'affilié\"] == \"MOHAMEDIA\") | (df_c20[\"Ville de l'affilié\"] == \"MOHAMADIA\") | (df_c20[\"Ville de l'affilié\"] == \"MOHAMDIA\"), \"Ville de l'affilié\"] = 'MOHAMADIA'\n",
    "\n",
    "df_c20.loc[(df_c20[\"Ville de l'affilié\"] == \"MUTUEL VILLE\") | (df_c20[\"Ville de l'affilié\"] == \"MUTUELLE VILLE\"), \"Ville de l'affilié\"] = 'MUTUELLE VILLE'\n",
    "\n",
    "df_c20.loc[(df_c20[\"Ville de l'affilié\"] == \"TUNIS BEB SOUIKA\") | (df_c20[\"Ville de l'affilié\"] == \"TUNIS BAB SOUIKA\"), \"Ville de l'affilié\"] = 'TUNIS BEB SOUIKA'\n",
    "\n",
    "df_c20.loc[(df_c20[\"Ville de l'affilié\"] == \"MERKEZ CHIHIYA\") | (df_c20[\"Ville de l'affilié\"] == \"MERKEZ CHIHYA\"), \"Ville de l'affilié\"] = 'MERKEZ CHIHIYA'\n",
    "\n",
    "df_c20.loc[(df_c20[\"Ville de l'affilié\"] == \"SAKIET EDDAYER\") | (df_c20[\"Ville de l'affilié\"] == \"SAKIYET EDDAIER\"), \"Ville de l'affilié\"] = 'SAKIET EDDAIER'\n",
    "\n",
    "df_c20.loc[(df_c20[\"Ville de l'affilié\"] == \"KALAA EL KBIRA\") | (df_c20[\"Ville de l'affilié\"] == \"KALAA EL KEBIRA\"), \"Ville de l'affilié\"] = 'KALAA EL KBIRA'\n",
    "\n"
   ]
  },
  {
   "cell_type": "code",
   "execution_count": null,
   "id": "4edeef4b",
   "metadata": {
    "scrolled": true
   },
   "outputs": [],
   "source": [
    "df_c20[\"Nom PV\"].value_counts()"
   ]
  },
  {
   "cell_type": "code",
   "execution_count": null,
   "id": "a599c157",
   "metadata": {
    "scrolled": true
   },
   "outputs": [],
   "source": [
    "df_cor = df_c20.loc[:, [\"Consumer_ID\",\"Nom PV\"]]\n",
    "\n",
    "freq_df = df_cor.groupby(['Consumer_ID', \"Nom PV\"]).size().reset_index(name='Freq')\n",
    "\n",
    "# convert to pivot table\n",
    "pivot_table = freq_df.pivot_table(index=['Consumer_ID', \"Nom PV\"], values='Freq', fill_value=0)\n",
    "\n",
    "# reshape pivot table to a matrix\n",
    "matrix = pivot_table.unstack()\n",
    "\n",
    "# calculate correlation matrix\n",
    "corr_matrix = matrix.corr()\n",
    "\n",
    "corr_df = pd.DataFrame(corr_matrix)\n",
    "\n",
    "# apply custom styling to the table\n",
    "corr_table = corr_df.style.background_gradient(cmap='coolwarm')\n",
    "\n",
    "# display the table\n",
    "corr_table\n",
    "\n",
    "# set the figure size\n",
    "#sns.set(rc={'figure.figsize':(11.7,8.27)})\n",
    "\n",
    "# visualize the correlation matrix\n",
    "#m_cor = sns.heatmap(corr_matrix, cmap='coolwarm', xticklabels=5, yticklabels=5)\n",
    "#m_cor.set_xlabel('Consumer_ID')"
   ]
  },
  {
   "cell_type": "code",
   "execution_count": null,
   "id": "2f67a7bc",
   "metadata": {},
   "outputs": [],
   "source": [
    "res1 = [\"CANTINE CITY\" ,\"CANTINE EL JEM\" ,\"CANTINE EL MEDINA\" ,\"CANTINE METES\" ,\"CANTINE MEZZO\" ,\"CANTINE OOREDOO\" ,\"CANTINE SELIANA\" ,\"CANTINE SILIANA\",\"CANTINE STMICRO\", \"CANTINE UATS SOUSSE\" ,\"BEN GAID HASSINE\"] \n",
    "\n",
    "res2 = [\"EL HNEYA\", \"KLITCH\", \"RESTAURANT MARBELLA\", \"LES DEUX M\", \"RESTAURANT BOUGHNIM\", \"CHICK N CHIPS\", \"PAVAROTTI PASTA\", \"OBLADI COFFEE\", \"RESTAURANT TONTON\", \"RESTAURANT LE TUNISOIS\", \"HILLTOP COFFEE & SNACK\", \"SHE'S CAKE DIVINE\", \"PITA-GORE\", \"RESTAURANT VAGABONDO\", \"RESTAURANT CHEZ DALY\", \"RESTAURANT RHOUMA\", \"RESTAURANT ZERYEB\", \"FAT BURGER\", \"RESTAURANT CITY\", \"PIZZERIA VENEZIA\", \"THE BUFFALO\", \"SNOOPY FOOD\", \"MON BOUCHER\", \"CAFE VOGUE\", \"MARAKANA FAST FOOD\", \"LE BISTROT\", \"FAST FOOD AMIGO S\", \"CHEZ BIBI\", \"RESTAURANT LA CALECHE\", \"SUPERETTE BEN SASSI\", \"KAVA LOUNGE\", \"MAZRAA LEILA KAABI\", \"3 BOYS\", \"RESTAURANT FAYROUZ\", \"ZITOUNA COFFE SHOP\", \"EL MAZRAA\", \"LE PRINCE\", \"PIZZERIA AMIGO\", \"DAR ZMAN\", \"PIZZARIA L ARAGOSTA\", \"LAFIFFE\", \"MAZRAA SAIFEDDINE ZRIBI\", \"COIN DELICE\", \"LE RESERVOIR BISTROT\", \"BATBOUT\", \"RESTAURANT HAVANA\", \"PANINOS\", \"EL BARAKA FAMILY\", \"PIZZA HUT\", \"AROOS LEBANON\", \"SALON DE THE THEVEST\", \"PIZZERIA PINOCCHIO\", \"PATISSERIES LA FRIANDISE\", \"RESTAURANT ZERYEB\", \"PÂTISSERIE BEN MOKHTAR\", \"BIG BOY TACOS\", \"BIENVENUE FOOD'S\", \"VITTORIINA\", \"EL WALIMA\", \"AROOS LEBANON\", \"MAGASIN EL JAZIRI\", \"LA TURQUOISE\"]\n",
    "\n",
    "res3 = ['RESTAURANT NOAA', 'PATHE TUNIS CITY', 'PATISSERIE SELLEM', 'LES MORISQUES', 'PÂTISSERIE SAVEUR MAGENTA', \"CLASS'CROUTE\", 'REGALO ITALIANO', 'PÂTISSERIE IL DOLCE DEL MAESTRO', 'LA TERASSE', 'MAGENTA', 'BEST OF', 'RESTAURANT INFINITY', 'RESTO BORRI', 'RESTAURANT MONTANA', 'CASA DEL TACOS', 'TARKAN BEREKTLI', 'EL KOOCHA', 'RESTAURANT TALEL', \"KRIDENE'S FOOD\", 'PIZZA TIME', 'PATHE MALL OF SOUSSE', 'RESTAURANT FAOUZI', 'AF COFFEE SHOP', 'PIZZERIA MARGHERITA', 'ERIC KAYSER', 'AL BARAKA', 'DAR ZAKIA', 'BEL FAST', 'NOS SOLO PIZZA', 'BIZZART', 'CHEZ ABDOU', 'SANTIAGO', 'ROTI EXPRESS', 'LEADER MARKET', 'LE SAVARY', 'RESTO PRINGLESS', 'FAST FOOD VENEZIA', 'ALIMENTATION KHELIFI ANIS', 'FRESH CHICKEN SADFI', 'RESTAURANT HEDI BABA', 'RESTAURANT EZZITOUNA', 'RESTAURANT BOX', 'COZYNOOKS', 'LA CUCHARA', 'LE CHARIOT', 'CHEZ SANFOUR', 'MOKITO', 'LE MOULIN', 'SAN BURG', 'MEETING', 'VERSAILLES CAFE', 'FRERES GOURMETS', 'LELLA EL BAYA', '100 FA 100', 'BOUCHERIE ERRAHMA', 'BONUS CENTER', 'PIZZERIA OLYMPICO', 'ADEL PLUS', 'RESTO PIZZERIA LA JOCONDE', 'FAST FOOD 61 BIS', 'IL CASTELLO', 'BROOKS CAFE', 'PIZZERIA C CHO', 'WHAT S UP', \"LA PALME D'OR\", 'TRIBECA', 'DREAM FOOD', 'FERME EL MOULOUK', 'LE PARISIEN', 'OZALIS MARKET', 'ONE PRIX MARKET', 'RESTAURANT SHILI', 'PATISSERIE LA MEGRINOISE', 'B HIVE', 'CHICKEN LIGHT', 'XPRESS FOOD', 'RESTAURANT EL BARAKA', 'L ENTREPOT', 'IDEA LOUNGE', 'COFFEE SHOP MONTA', 'PICCOLO  MERCATO', 'FRERES GOURMETS', 'MERAKI SUSHI', 'ESPACE ENNASRIA', 'KOUSTILIA', 'HAPPY DAY S', 'OMI ZOHRA', 'TWOM', 'CAFE RESTO BAGHDAD', 'ASSAKINA', 'PIZZERIA TOTTI', 'IBIZA', 'PATISSERIES LE PRINCE', 'CHEEZ', 'Ô FRAIS', 'LE PARISIEN', 'TORTUGA FOOD', 'RESTAURANT ALI BABA', 'MEALS']\n",
    "\n",
    "res4 = ['RESTAURANT DARNA','EL BNIN','WARDY LE TRAITEUR',\n",
    "        'MAZRAA LOUJAIN',\n",
    "        'COIN COOL',\n",
    "        'BON PLAN',\n",
    "        'LA FINE EPICERIE LA SOUKRA',\n",
    "        'BAR A SALADE BREATH',\n",
    "        'BIG MO',\n",
    "        'FAT BURGER',\n",
    "        'KAFTA & TAWOOK',\n",
    "        'FRIES LAND',\n",
    "        'DAWAJEN EL MOULOUK',\n",
    "        'RESTAURANT ETTAHRIR',\n",
    "        'LE BALCON',\n",
    "        'LA CROISETTE',\n",
    "        'LA PAUSE GOURMANDE',\n",
    "        'MAZRAA LOUJAIN',\n",
    "        'CASA MIA',\n",
    "        'MIDTOWN',\n",
    "        'MAGASIN SAFA',\n",
    "        'EL MOSLI',\n",
    "        'PLANET FOOD',\n",
    "        'VIA MERCATO',\n",
    "        'BAHROUN VOLAILLES',\n",
    "        'NEW FOOD',\n",
    "        'CROISSANTERIE WALID +',\n",
    "        'LA BELGE',\n",
    "        'BURANO',\n",
    "        'CASABLANCA FOOD',\n",
    "        'ALIMENTATION AL BARAKA',\n",
    "        'SAY CHEESE',\n",
    "        'TSUNAMI SUSHI',\n",
    "        'QUE TAL',\n",
    "        \"TAPAS'TA\",\n",
    "        'RESTAURANT CROCK IN',\n",
    "        'PATISSERIE MAWAZEENE',\n",
    "        'COOK S',\n",
    "        'PIZZERIA IL COMPIGLIO',\n",
    "        'STREET 19',\n",
    "        'LA CABANE',\n",
    "        'ERIC KAYSER',\n",
    "        'BONZAI',\n",
    "        'GUM GUM',\n",
    "        'COIN BLEU',\n",
    "        \"FLAM'S FOOD\",\n",
    "        'PIZZERIA PASTA LA CORNICHE',\n",
    "        'SPLASH',\n",
    "        'PIZZERIA LA FOCACCIA.',\n",
    "        'PIZZA GRAM',\n",
    "        'DELCAPO',\n",
    "        'EL MAZRAA',\n",
    "        'MAZRAA CHERNI AHMED',\n",
    "        'RESTAURANT TAMTAM',\n",
    "        'MADAME ZARROUK',\n",
    "        'CAVALIERO',\n",
    "        'LA TOUR ROYAL',\n",
    "        'CHAHIA HAMMAM LIF',\n",
    "        'SYMBOISE',\n",
    "        'RESTAURANT LE BAB',\n",
    "        'JAWHER PLUS',\n",
    "        'RESTAURANT MECHMECHA',\n",
    "        'FROZEN LAND',\n",
    "        'NEWS CAFE',\n",
    "        'PICCOLO MERCATO',\n",
    "        'PIZZERIA FLAMMINGO',\n",
    "        'VOLAILLES LINDOLSI',\n",
    "        'ANTONY',\n",
    "        'RESTAURANT CENTRAL',\n",
    "        'AQUA LOUNGE',\n",
    "        'ROZANA',\n",
    "        'RESTAURANT PIZZERIA ECHARFIA',\n",
    "        'BREAK TIME',\n",
    "        'TEXAS FAST FOOD',\n",
    "        'LE 52',\n",
    "        'PIZZERIA EL BARAKA',\n",
    "        'DAMIDO FOOD',\n",
    "        'ÔHYA CHOCOLATERIE',\n",
    "        'EL MAZRAA MOUNIR CHARGUI',\n",
    "        'RESTAURANT TOTTI',\n",
    "        'POP S PIZZERIA',\n",
    "        'LES SEPT MERVEILLES',\n",
    "        'QUEEN\\'S FOOD',\n",
    "        'RESTAURANT KALIMERA',\n",
    "        'CHOCO SHOP',\n",
    "        \"ELIE D'OR\",\n",
    "        'CHAHIA']\n",
    "\n",
    "res5 = ['CASADIO COFFEE SHOP', 'PAINS ET COMPAGNIE', 'BIG CHEF', 'GRANDIOSO', 'FAST FOOD LAAMIRI', 'BOUCHERIE LA VRAI ENTRECOTE', 'RESTAURANT YA BON', \"PAPA JOHN'S\", 'VENTE VOLAILLES ET DÉRIV', 'EL MAZRAA MOUNIR CHARGUI', 'PRO MARKET', 'RESTAURANT BISTRO 73', 'MAGASIN TIBA YASMINE', \"PROGRE FOOD'S\", 'APOLLO', 'ALIMENTATION LATIFA', 'INSTAFOOD', 'RESTAURANT SICILIA', 'CAFE LYNDA', 'SHOW OFF', 'MAZRAA', 'LES TROIS BAGUETTE', 'WHY NOT', 'ROYAL CROCK IN', 'ROZANA', 'EATUP', 'POPOLARE', 'SATOSUSHI', 'TIK TAK FAMILY', 'LA MARGHERITA', 'BOULANGERIE OLIVIA', 'GALATA', 'HOTEL LE PACHA', 'AMIRA MARKET', 'FAST FOOD BECH BECH', 'LA PAUSE', 'RESTAURANT EZZEDDINE', 'HABOUBI MARKET', 'RESTAURANT CAFE EL MRABET', 'MOUNET EL AAILA', 'RESTAURANT BAGHDADI', 'WOK THAÏ', 'SAW SAW RESTO', 'RESTAURANT JEMAII', 'LE DOMAINE', 'MAISON TURKI']\n",
    "\n",
    "res6 = ['AM SALAH',\n",
    "        'LE POPULAIRE',\n",
    "        'PALAZZO',\n",
    "        'LA POZ RESTO CAFE',\n",
    "        'HAFEZ OMAR EFENDI',\n",
    "        'JAWHARET MAKTHARIS',\n",
    "        'LE FONDANT BY MME. KRAIEM',\n",
    "        'THE SQUARE',\n",
    "        'BENT EL HAJ',\n",
    "        'PATISSERIE MOZART',\n",
    "        'PIZZA HOUSE',\n",
    "        'BOUCHERIE & CHACUTERIE EL FIRMA',\n",
    "        'WHY NOT FAST FOOD',\n",
    "        'MARINARA',\n",
    "        'MON PRIX',\n",
    "        'MAZRAA MARKET',\n",
    "        'KITCH',\n",
    "        'TIP TOP',\n",
    "        'RESTAURANT ABID',\n",
    "        'MAGASIN 44',\n",
    "        'MAZRAA SAMIR',\n",
    "        'WAYWA',\n",
    "        'EL MAKSOURA',\n",
    "        'THE SHOTS',\n",
    "        'MAGASIN IBTISSEM',\n",
    "        'EL HAJJA',\n",
    "        'PIZZARIA LAYOUNI',\n",
    "        'FRIENDS COFEE SHOP',\n",
    "        'CERCINA',\n",
    "        'RESTAURANT FELHI',\n",
    "        'DAR KAMMOUN',\n",
    "        'PIZZERIA NOUVELLE OASIS',\n",
    "        'PHILLY CHEES STEAK',\n",
    "        'LA GRAINE',\n",
    "        'MEXICANA',\n",
    "        'CHINA TOWN RESTO',\n",
    "        'LA 3 EME',\n",
    "        'RHAZES BARZAK BY DA PIETRO',\n",
    "        'LES 3 MARINS',\n",
    "        'PATISSERIE AZIZ',\n",
    "        'CASDAL',\n",
    "        'BROTHER S FOOD',\n",
    "        'RESTAURANT SELAMOUN',\n",
    "        'RESTAURANT ABID AL OMARA',\n",
    "        'PATISSERIE FRAY FAYEZ',\n",
    "        'PATISSERIE PASTRY',\n",
    "        'RESTO-PIZZERIA LA CAVERNA',\n",
    "        'CLUB MC 27',\n",
    "        'RESTAURANT SIDI BOUSAID',\n",
    "        'AROOS LEBANON',\n",
    "        'PIZZERIA HAMHAMA',\n",
    "        'WOK THAÏ',\n",
    "        'PIZZERIA BIANCO NERI',\n",
    "        'FOOD FACTORY',\n",
    "        'BOUCHEE SUCREE',\n",
    "        'LA KAMORA',\n",
    "        'STREET TOUNSI',\n",
    "        'ALLEGRIA',\n",
    "        'RESTAURANT SOLTANA FOOD',\n",
    "        'BAHARAT MARKET',\n",
    "        'LA ROTONDE.',\n",
    "        'RESTAURANT MEXICAN',\n",
    "        'DAWAJIN AL MARAA',\n",
    "        'KECHMECH',\n",
    "        'RESTAURANT THE GATE',\n",
    "        'IL VICINO RESTORANTE',\n",
    "        \"L'OPERA\",\n",
    "        'LA VRAI ENTRECOTE',\n",
    "        \"PARAD’ICE\", \n",
    "        \"PIZZA YAZOOL\",\n",
    "        \"RESTAURANT AR.DOISE\",\n",
    "        \"DA PIETRO SIDI BOUSAID\",\n",
    "        \"PAUSE CAFE\",\n",
    "        \"SPECIALITE TURK\",\n",
    "        \"RESTAURANT JOSEF\",\n",
    "        \"BEN YEDDER\",\n",
    "        \"PARAD ICE\",\n",
    "        \"SPA FOOD\",\n",
    "        \"PÂTISSERIE LA ROSE SUCREE\",\n",
    "        \"VICTORY\",\n",
    "        \"CHICKEN HOUSE\",\n",
    "        \"RESTAURANT LE CONVIVIUM\",\n",
    "        \"DOODLE BURGER BAR\",\n",
    "        \"DA PIETRO\",\n",
    "        \"RESTAURANT QUICKLY\"]\n",
    "\n",
    "res = res1 + res2 + res3 + res4 + res5 + res6\n",
    "\n",
    "pattern = '|'.join(res)\n",
    "df_c20 = df_c20[~df_c20['Nom PV'].str.contains(pattern)]\n",
    "\n",
    "#df_c20 = df_c20[~df_c20['restaurant_name'].isin(['RESTAURANT MARBELLA', 'LES DEUX M', 'RESTAURANT BOUGHNIM', 'CHICK N CHIPS', 'PAVAROTTI PASTA', 'OBLADI COFFEE', 'RESTAURANT TONTON', 'RESTAURANT LE TUNISOIS', 'HILLTOP COFFEE & SNACK', \"SHE'S CAKE DIVINE\", 'PITA-GORE', 'RESTAURANT VAGABONDO', 'RESTAURANT CHEZ DALY', 'RESTAURANT RHOUMA', 'RESTAURANT ZERYEB', 'FAT BURGER', 'RESTAURANT CITY', 'PIZZERIA VENEZIA', 'THE BUFFALO', 'SNOOPY FOOD', 'MON BOUCHER', 'CAFE VOGUE', 'MARAKANA FAST FOOD', 'LE BISTROT', 'FAST FOOD AMIGO S', 'CHEZ BIBI', 'RESTAURANT LA CALECHE', 'SUPERETTE BEN SASSI', 'KAVA LOUNGE', 'MAZRAA LEILA KAABI', '3 BOYS', 'RESTAURANT FAYROUZ', 'DA PIETRO', 'ZITOUNA COFFE SHOP', 'EL MAZRAA', 'LE PRINCE', 'PIZZERIA AMIGO', 'DAR ZMAN', 'PIZZARIA L ARAGOSTA', 'LAFIFFE', 'MAZRAA SAIFEDDINE ZRIBI', 'COIN DELICE', 'LE RESERVOIR BISTROT', 'BATBOUT', 'RESTAURANT HAVANA', 'PANINOS', 'EL BARAKA FAMILY', 'PIZZA HUT', 'AROOS LEBANON', 'SALON DE THE THEVEST', 'PIZZERIA PINOCCHIO', 'PATISSERIES LA FRIANDISE', 'RESTAURANT ZERYEB', 'PÂTISSERIE BEN MOKHTAR', 'BIG BOY TACOS', 'BIENVENUE FOOD\\'S', 'VITTORIINA', 'EL WALIMA', 'AROOS LEBANON', 'MAGASIN EL JAZIRI', 'LA TURQUOISE', 'PARAD’ICE', 'RESTAURANT NOAA', 'PATHE TUNIS CITY', 'PATISSERIE SELLEM', 'LES MORISQUES', 'PÂTISSERIE SAVEUR MAGENTA', 'CLASS\\'CROUTE', 'REGALO ITALIANO', 'PÂTISSERIE IL DOLCE DEL MAESTRO', 'LA TERASSE', 'MAGENTA', 'BEST OF', 'RESTAURANT INFINITY', 'RESTO BORRI', 'RESTAURANT MONTANA', 'CASA DEL TACOS', 'TARKAN BEREKTLI', 'EL KOOCHA', 'RESTAURANT TALEL', 'KRIDENE\\'S FOOD', 'PIZZA TIME', 'PATHE MALL OF SOUSSE', 'RESTAURANT FAOUZI', 'AF COFFEE SHOP', 'PIZZERIA MARGHERITA', 'ERIC KAYSER'])\n",
    "#df = df[df.groupby('Nom PV')['Nom PV'].transform('count') >= 94]"
   ]
  },
  {
   "cell_type": "code",
   "execution_count": null,
   "id": "f07c22e9",
   "metadata": {},
   "outputs": [],
   "source": [
    "df_c20.shape"
   ]
  },
  {
   "cell_type": "code",
   "execution_count": null,
   "id": "c04f8d15",
   "metadata": {},
   "outputs": [],
   "source": [
    "df_c20[\"Nom PV\"].value_counts()"
   ]
  },
  {
   "cell_type": "code",
   "execution_count": null,
   "id": "bf98c0a1",
   "metadata": {},
   "outputs": [],
   "source": [
    "df_cor = df_c20.loc[:, [\"Consumer_ID\",\"Nom de l'affilié\"]]\n",
    "\n",
    "freq_df = df_cor.groupby(['Consumer_ID', \"Nom de l'affilié\"]).size().reset_index(name='Freq')\n",
    "\n",
    "# convert to pivot table\n",
    "pivot_table = freq_df.pivot_table(index=['Consumer_ID', \"Nom de l'affilié\"], values='Freq', fill_value=0)\n",
    "\n",
    "# reshape pivot table to a matrix\n",
    "matrix = pivot_table.unstack()\n",
    "\n",
    "# calculate correlation matrix\n",
    "corr_matrix = matrix.corr()\n",
    "\n",
    "corr_df = pd.DataFrame(corr_matrix)\n",
    "\n",
    "# apply custom styling to the table\n",
    "corr_table = corr_df.style.background_gradient(cmap='coolwarm')\n",
    "\n",
    "# display the table\n",
    "corr_table\n",
    "\n",
    "# set the figure size\n",
    "#sns.set(rc={'figure.figsize':(11.7,8.27)})\n",
    "\n",
    "# visualize the correlation matrix\n",
    "#m_cor = sns.heatmap(corr_matrix, cmap='coolwarm', xticklabels=5, yticklabels=5)\n",
    "#m_cor.set_xlabel('Consumer_ID')"
   ]
  },
  {
   "cell_type": "code",
   "execution_count": null,
   "id": "1d1c1079",
   "metadata": {},
   "outputs": [],
   "source": [
    "res1 = [\"THE SQUARE\", \"MAGASIN IBTISSEM\", \"LA VRAI ENTRECOTE\", \"TIP TOP\", \"RESTAURANT CAFE EL MRABET\", \"LA PAUSE\", \"RESTAURANT PIZZERIA ECHARFIA\", \"SATOSUSHI\", \"PALAZZO\", \"RESTAURANT SELAMOUN\", \"RESTAURANT ABID\", \"LA 3 EME\", \"MON PRIX\", \"PIZZERIA LA NOUVELLE OASIS\", \"AMIRA MARKET\", \"KITCH\", \"LE FONDANT BY MME. KRAIEM\", \"MAGASIN TIBA YASMINE\", \"DAR KAMMOUN\", \"ALLEGRIA\", \"IL VICINO RESTORANTE\", \"LE POPULAIRE\", \"PATISSERIE MOZART\", \"LE DOMAINE\", \"PATISSERIE FRAY FAYEZ\", \"FREINDS COFFEE SHOP\", \"L'OPERA\", \"RESTAURANT SOLTANA FOOD\", \"RESTAURANT ABID AL OMARA\", \"PATISSERIE PASTRY\", \"RESTAURANT THE GATE\", \"RESTAURANT FELHI\", \"KECHMECH\", \"PROGRE FOOD'S\", \"LA GRAINE\", \"PHILLY CHEES STEAK\", \"JAWHARET MAKTHARIS\", \"RESTAURANT MEXICAN\", \"MAISON TURKI\", \"RESTAURANT BAGHDADI\", \"RHAZES BARZAK BY DA PIETRO\", \"STE 2 AMY MARKET COMPANY\", \"PIZZERIA LA KAMORA\", \"STREET TOUNSI\", \"BENT EL HAJ\", \"FRIOUI FOOD\"]\n",
    "\n",
    "res2 = [\"COOK'S\", \"PIZZERIA PASTA LA CORNICHE\", \"RESTAURANT TAMTAM\", \"CASABLANCA FOOD\", \"SYMBOISE\", \"ROYAL CROCK IN\", \"MIDTOWN\", \"RESTAURANT CENTRAL\", \"PLANET FOOD\", \"GALATA COFFEE SHOP\", \"MOUNET EL AAILA\", \"EL MAZRAA\", \"LES SEPT MERVEILLES\", \"PRO MARKET\", \"QUE TAL\", \"GRANDIOSO\", \"RESTAURANT MECHMECHA\", \"MAZRAA CHERNI AHMED\", \"CASA MIA\", \"QUEEN'S FOOD\", \"CHAHIA HAMMAM LIF\", \"DA PIETRO SIDI BOUSAID\", \"HAFEZ OMAR EFENDI\", \"WHY NOT\", \"PIZZERIA LA FOCACCIA\", \"TEXAS FAST FOOD\", \"LES TROIS BAGUETTE\", \"RESTAURANT KALIMERA\", \"PIZZERIA LA CABANE\", \"RESTAURANT EZZEDDINE\", \"DELCAPO\", \"CHOCO SHOP\", \"RESTAURANT SICILIA\", \"ALIMENTATION GENERALE\", \"RESTAURANT BISTRO 73\", \"FAST FOOD LAAMIRI\", \"INSTAFOOD\", \"LA TOUR ROYALE\", \"THE CROWD\", \"RESTAURANT APOLLO\", \"FAST FOOD BECH BECH\", \"RESTAURANT YA BON\", \"BOULANGERIE OLIVIA\", \"STREET 19\", \"HOTEL LE PACHA\", \"ÔHYA CHOCOLATERIE\", \"CAVALIERO\", \"AM SALAH\", \"RESTAURANT JEMAII\", \"SAW SAW RESTO\", \"PIZZA GRAM\", \"SAY CHEESE\", \"LA POZ RESTO CAFE\", \"TIK TAK FAMILY\", \"PIZZARIA LAYOUNI\", \"FLAM'S FOOD\", \"CHICKEN LIGHT\", \"LE 52\"]\n",
    "\n",
    "res3 = [\"BONZAI\", \"PATISSERIES LE PRINCE\", \"LA FINE EPICERIE LA SOUKRA\", \"RESTAURANT ALI BABA\", \"PIZZERIA TOTTI\", \"DAWAJEN EL MOULOUK\", \"DAPIETRO\", \"OZALIS MARKET\", \"BOUCHERIE ERRAHMA\", \"BON PLAN\", \"BAR A SALADE BREATH\", \"TRIBECA\", \"PIZZERIA IL COMPIGLIO\", \"COIN COOL\", \"RESTAURANT ASSAKINA\", \"RESTAURANT ETTAHRIR\", \"PATISSERIE MAWAZEENE\", \"ESPACE ENNASRIA\", \"EL MAZRAA MOUNIR CHARGUI\", \"ANTONY\", \"CASADIO COFFEE SHOP\", \"EL MOSLI\", \"LA BELGE\", \"PIZZA YAZOOL\", \"BURANO\", \"RESTAURANT CROCK IN\", \"RESTAURANT LE BEB\", \"JAWHER PLUS\", \"MADAME ZARROUK\", \"KAFTA & TAWOOK\", \"FROZEN LAND\", \"SPLASH\", \"LA CROISETTE\", \"CHEZ SANFOUR\", \"LE BALCON\", \"LE SAVARY\", \"PIZZERIA FLAMMINGO\", \"TSUNAMI SUSHI\", \"MAGASIN SAFA\", \"GUM GUM\", \"BAHROUN VOLAILLES\", \"RESTAURANT DARNA\", \"ELIE D'OR\", \"LA PAUSE GOURMANDE\", \"CAFETERIA NEWS CAFE\", \"SALON DE THE THEVEST\", \"POP S PIZZERIA\", \"COIN BLEU\", \"TAPAS'TA\", \"DAMIDO FOOD\", \"VOLAILLES LINDOLSI\", \"Ô FRAIS\", \"RESTO PIZZERIA LE MATADOR\", \"CHAHIA\", \"PAINS ET COMPAGNIE\", \"VENTE VOLAILLES ET DÉRIV\", \"CROISSANTERIE WALID +\", \"CAFE LYNDA\"]\n",
    "\n",
    "res4 = [\"RESTAURANT MOKITO\", \"PÂTISSERIE LA MEGRINOISE\", \"CHEZ ABDOU\", \"LEADER MARKET\", \"PATHE SOUSSE\", \"DA PIETRO ENNASR\", \"RESTAURANT MONTANA\", \"FAST FOOD VENEZIA\", \"BIZZART\", \"ADEL PLUS\", \"L ENTREPOT\", \"PIZZERIA MARGHERITA\", \"DAR ZAKIA\", \"PIZZERIA OLYMPICO\", \"LE MOULIN\", \"THE BUFFALO\", \"FAST FOOD 61 BIS\", \"100 FA 100\", \"CASA DEL TACOS\", \"PIZZERIA C CHO\", \"FRESH CHICKEN SADFI\", \"VERSAILLES CAFE\", \"RESTAURANT HAVANA\", \"RESTAURANT INFINITY\", \"LE CHARIOT\", \"BEE HIVE\", \"RESTAURANT BOX\", \"MEETING\", \"FERME EL MOULOUK\", \"RESTO PIZZERIA LA JOCONDE\", \"HAPPY DAY'S\", \"CHEZ NOURA\", \"COFFEE SHOP MONTA\", \"RESTAURANT HEDI BABA\", \"IDEA LOUNGE\", \"SANTIAGO\", \"FRIES LAND\", \"RESTAURANT SHILI\", \"BONUS CENTER\", \"ONE PRIX MARKET\", \"MERAKI SUSHI\", \"TWOM\", \"KOUSTILIA\", \"RESTAURANT FAOUZI\", \"TORTUGA FOOD\", \"XPRESS FOOD\", \"LA TURQUOISE\", \"IBIZA\", \"RESTAURANT LA CUCHARA\", \"CAFE RESTO BAGHDAD\", \"ROZANA\", \"RESTAURANT EL BARAKA\", \"EL BARAKA\", \"LES MORISQUES\", \"RESTAURANT AR.DOISE\", \"MEALS\", \"CHEEZ\", \"AF COFFEE SHOP\"]\n",
    "\n",
    "res5 = [\"RESTAURANT ZERYEB\", \"GOOMBA'S BOUMHAL\", \"CHO PIZ\", \"PATISSERIE LA PARISIENNE\", \"LE SANDWICH\", \"RESTAURANT QUICKLY\", \"TIC-TAC\", \"ESPERANZA FAST FOOD\", \"US PIZZA\", \"RESTAURANT VAGABONDO\", \"KLITCH\", \"VICTORIA\", \"O GREEN\", \"I CHEESE\", \"CHICK N CHIPS\", \"KAB CORNER\", \"PAVAROTTI PASTA\", \"RESTAURANT ESPERENZA\", \"PÂTISSERIE LA ROSE SUCREE\", \"EL HNEYA\", \"TAC O TAC\", \"CHICKEN HOUSE\", \"BEN SASSI\", \"EL MAZRAA\", \"JOE S PIZZA\", \"SHE'S CAKE DIVINE\", \"COSMOS\", \"RESTAURANT LE TUNISOIS\", \"RESTAURANT MARBELLA\", \"BIG BOY TACOS\", \"MY GUEST\", \"CAFE OB LA DI\", \"RESTAURANT JOSEF\", \"DAR ELKHIR\", \"DOODLE BURGER BAR\", \"RESTAURANT LE CONVIVIUM\", \"AROOS LEBANON\", \"RESTAURANT BOUGHNIM\", \"CFM\", \"MON BOUCHER\", \"CAFE VOGUE\", \"OMEGA COFFEE\", \"LE PRINCE\", \"VOLAILLES ET ROTISSERIE KAABI LEILA\", \"PANINOS\", \"SNOOPY FOOD\", \"CHEZ BIBI\", \"LE RESERVOIR\", \"3 BOYS\", \"RESTAURANT TONTON\", \"PIZZERIA AMIGO\", \"AQUA LOUNGE SOLITAIRE FOOD SERVICES\", \"PIZZARIA L ARAGOSTA\", \"KAVA LOUNGE\", \"PATHE\", \"LES DEUX M\"]\n",
    "\n",
    "\n",
    "res6 = [\"MAISON CO PAIN\", \"AMO LA PIZZA\", \"LA CALECHE\", \"EL OULA SHOP\", \"RESTAURANT KING FOOD\", \"RESTAURANT LELLA\", \"RESTO MALOUKA\", \"MAZRAA AYCHOUCHA\", \"RESTO THE QUEEN LINA\", \"LE BISTROT\", \"RESTAURANT THE CORNER\", \"SALON DE THE SOHO\", \"MR PIZZA\", \"LA CARTHAGINOISE\", \"SPA FOOD\", \"RESTAURANT BONFIRE\", \"POMME DE PAIN\", \"POT CAFE\", \"GREEN FOOD TUNISIE\", \"RESTAURANT BIG MAMA\", \"COIN BOUSLIMI\", \"DABY FOOD\", \"RESTAURANT ENNABLI\", \"RESTAURANT CHOK GUZEL\", \"RESTAURANT DAMASCINO\", \"SPECIALITE TURK\", \"FRATELLI FAST FOOD\", \"RESTAURANT CHEZ DALY\", \"DAR EL KHIR\", \"QUEENS FAST FOOD\", \"ROUTE 66\", \"STE SOUAD DIFFUSION\", \"SENZA NOME\"]\n",
    "\n",
    "\n",
    "res = res1 + res2 + res3 + res4 + res5 + res6 \n",
    "\n",
    "pattern = '|'.join(res)\n",
    "df_c20 = df_c20[~df_c20[\"Nom de l'affilié\"].str.contains(pattern)]"
   ]
  },
  {
   "cell_type": "code",
   "execution_count": null,
   "id": "36039140",
   "metadata": {},
   "outputs": [],
   "source": [
    "df_cor = df_c20.loc[:, [\"Consumer_ID\",\"Nom de l'affilié\"]]\n",
    "\n",
    "freq_df = df_cor.groupby(['Consumer_ID', \"Nom de l'affilié\"]).size().reset_index(name='Freq')\n",
    "\n",
    "# convert to pivot table\n",
    "pivot_table = freq_df.pivot_table(index=['Consumer_ID', \"Nom de l'affilié\"], values='Freq', fill_value=0)\n",
    "\n",
    "# reshape pivot table to a matrix\n",
    "matrix = pivot_table.unstack()\n",
    "\n",
    "# calculate correlation matrix\n",
    "corr_matrix = matrix.corr()\n",
    "\n",
    "corr_df = pd.DataFrame(corr_matrix)\n",
    "\n",
    "# apply custom styling to the table\n",
    "corr_table = corr_df.style.background_gradient(cmap='coolwarm')\n",
    "\n",
    "# display the table\n",
    "corr_table\n",
    "\n",
    "# set the figure size\n",
    "#sns.set(rc={'figure.figsize':(11.7,8.27)})\n",
    "\n",
    "# visualize the correlation matrix\n",
    "#m_cor = sns.heatmap(corr_matrix, cmap='coolwarm', xticklabels=5, yticklabels=5)\n",
    "#m_cor.set_xlabel('Consumer_ID')"
   ]
  },
  {
   "cell_type": "code",
   "execution_count": null,
   "id": "a90c0926",
   "metadata": {},
   "outputs": [],
   "source": [
    "df_c20.shape"
   ]
  },
  {
   "cell_type": "code",
   "execution_count": null,
   "id": "5a827b80",
   "metadata": {},
   "outputs": [],
   "source": [
    "df_c20[\"Nom de l'affilié\"].value_counts()"
   ]
  },
  {
   "cell_type": "code",
   "execution_count": null,
   "id": "e665de7a",
   "metadata": {},
   "outputs": [],
   "source": [
    "content_rec_df = pd.DataFrame({ \"Montant\" : df_c20[\"Montant\"], \"Ville de l'affilié\" : df_c20[\"Ville de l'affilié\"], \"Nom de l'affilié\" : df_c20[\"Nom de l'affilié\"], \"Adresse PV\" : df_c20[\"Adresse PV\"], \"Famille Aff.\" : df_c20[\"Famille Aff.\"], \"Groupe Aff.\" : df_c20[\"Groupe Aff.\"] })\n",
    "#content_rec_df = content_rec_df.reset_index(drop=True)\n",
    "#content_rec_df.to_excel('E:\\PFE_df\\content_rec_df.xlsx', index=False)"
   ]
  },
  {
   "cell_type": "code",
   "execution_count": null,
   "id": "9b99fba5",
   "metadata": {},
   "outputs": [],
   "source": [
    "content_rec_df.head()"
   ]
  },
  {
   "cell_type": "code",
   "execution_count": null,
   "id": "d2ee8a19",
   "metadata": {},
   "outputs": [],
   "source": [
    "content_rec_df.shape"
   ]
  },
  {
   "cell_type": "code",
   "execution_count": null,
   "id": "522b0f0e",
   "metadata": {},
   "outputs": [],
   "source": [
    "colab_rec_df = pd.DataFrame({ \"Montant\" : df_c20[\"Montant\"], \"Ville de l'affilié\" : df_c20[\"Ville de l'affilié\"], \"Nom de l'affilié\" : df_c20[\"Nom de l'affilié\"], \"Adresse PV\" : df_c20[\"Adresse PV\"], \"Famille Aff.\" : df_c20[\"Famille Aff.\"], \"Groupe Aff.\" : df_c20[\"Groupe Aff.\"], \"Consumer_ID\" : df_c20[\"Consumer_ID\"] })\n",
    "#content_rec_df = content_rec_df.reset_index(drop=True)\n",
    "#colab_rec_df.to_excel('E:\\PFE_df\\colab_rec_df.xlsx', index=False)"
   ]
  },
  {
   "cell_type": "code",
   "execution_count": null,
   "id": "478ab36f",
   "metadata": {},
   "outputs": [],
   "source": [
    "colab_rec_df.head()"
   ]
  },
  {
   "cell_type": "code",
   "execution_count": null,
   "id": "004e49c1",
   "metadata": {},
   "outputs": [],
   "source": [
    "colab_rec_df.shape"
   ]
  },
  {
   "cell_type": "code",
   "execution_count": null,
   "id": "98a48271",
   "metadata": {},
   "outputs": [],
   "source": [
    "#categorical_cols = [\"Ville de l'affilié\", \"Nom PV\",\"Adresse PV\", \"Famille Aff.\",\"Groupe Aff.\"]  \n",
    "#data_encoded = pd.get_dummies(content_rec_df, columns=categorical_cols)"
   ]
  },
  {
   "cell_type": "code",
   "execution_count": null,
   "id": "1c916248",
   "metadata": {},
   "outputs": [],
   "source": [
    "#data_sparse = csr_matrix(data_encoded.values)"
   ]
  },
  {
   "cell_type": "code",
   "execution_count": null,
   "id": "353a64b2",
   "metadata": {},
   "outputs": [],
   "source": [
    "#n_components = 2  # Choose the number of components to reduce to\n",
    "#svd = TruncatedSVD(n_components=n_components)\n",
    "#data_svd = svd.fit_transform(data_sparse)\n",
    "\n",
    "#data_svd = np.c_[data_svd, content_rec_df[\"Montant\"].values]"
   ]
  },
  {
   "cell_type": "code",
   "execution_count": null,
   "id": "5a3535da",
   "metadata": {},
   "outputs": [],
   "source": [
    "#cosine_similarities = cosine_similarity(data_svd)"
   ]
  },
  {
   "cell_type": "code",
   "execution_count": null,
   "id": "96a1e5a3",
   "metadata": {},
   "outputs": [],
   "source": [
    "#cosine_similarities.shape"
   ]
  },
  {
   "cell_type": "code",
   "execution_count": null,
   "id": "3bd7380f",
   "metadata": {},
   "outputs": [],
   "source": [
    "#print(cosine_similarities)\n",
    "\n",
    "#def recommend_restaurants(Name, cosine_similarities, content_rec_df):\n",
    "#    indices = pd.Series(content_rec_df.index, index=content_rec_df['Nom PV']).drop_duplicates()\n",
    "\n",
    "#   idx = indices[Name]\n",
    "\n",
    "#    sim_scores = list(enumerate(cosine_similarities[idx]))\n",
    "\n",
    "#    sim_scores = sorted(sim_scores, reverse=True)\n",
    "\n",
    "#    sim_scores = sim_scores[1:11]\n",
    "\n",
    "#    restaurant_indices = [i[0] for i in sim_scores]\n",
    "\n",
    "#    return content_rec_df['Nom PV'].iloc[restaurant_indices]\n",
    "\n",
    "#recommend_restaurants('PRET A MANGER', cosine_similarities, content_rec_df)"
   ]
  },
  {
   "cell_type": "code",
   "execution_count": null,
   "id": "fd52e3fd",
   "metadata": {},
   "outputs": [],
   "source": []
  }
 ],
 "metadata": {
  "kernelspec": {
   "display_name": "Python 3 (ipykernel)",
   "language": "python",
   "name": "python3"
  },
  "language_info": {
   "codemirror_mode": {
    "name": "ipython",
    "version": 3
   },
   "file_extension": ".py",
   "mimetype": "text/x-python",
   "name": "python",
   "nbconvert_exporter": "python",
   "pygments_lexer": "ipython3",
   "version": "3.9.7"
  }
 },
 "nbformat": 4,
 "nbformat_minor": 5
}
